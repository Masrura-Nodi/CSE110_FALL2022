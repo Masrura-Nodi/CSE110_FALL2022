{
  "nbformat": 4,
  "nbformat_minor": 0,
  "metadata": {
    "colab": {
      "provenance": []
    },
    "kernelspec": {
      "name": "python3",
      "display_name": "Python 3"
    },
    "language_info": {
      "name": "python"
    }
  },
  "cells": [
    {
      "cell_type": "code",
      "source": [
        "#example\n",
        "\n",
        "for i in range (24, -7, -6):\n",
        "  if i==-6 :\n",
        "     print (i)\n",
        "  else:\n",
        "     print(i,end=\",\")"
      ],
      "metadata": {
        "colab": {
          "base_uri": "https://localhost:8080/"
        },
        "id": "bIC4yGRpPhyI",
        "outputId": "cc47d191-d970-4a78-f125-f445fb038fa7"
      },
      "execution_count": null,
      "outputs": [
        {
          "output_type": "stream",
          "name": "stdout",
          "text": [
            "24,18,12,6,0,-6\n"
          ]
        }
      ]
    },
    {
      "cell_type": "code",
      "source": [
        "#Task 1\n",
        "#a) 24, 18, 12, 6, 0, -6\n",
        "\n",
        "value = 24\n",
        "\n",
        "while value >= -6:\n",
        "    if value == -6:\n",
        "        print(value, end = \"\")\n",
        "    else:\n",
        "        print(value, end = \", \")\n",
        "    value -= 6"
      ],
      "metadata": {
        "colab": {
          "base_uri": "https://localhost:8080/"
        },
        "id": "A4kXgY5eKp2V",
        "outputId": "b0894d6f-d8ef-4698-f15b-4baa5b0ec487"
      },
      "execution_count": null,
      "outputs": [
        {
          "output_type": "stream",
          "name": "stdout",
          "text": [
            "24, 18, 12, 6, 0, -6"
          ]
        }
      ]
    },
    {
      "cell_type": "code",
      "source": [
        "#Task 1\n",
        "#b) -10, -5, 0, 5, 10, 15, 20\n",
        "\n",
        "value = -10\n",
        "\n",
        "while value <= 20:\n",
        "    if value == 20:\n",
        "        print(value, end = \"\")\n",
        "    else:\n",
        "        print(value, end = \", \")\n",
        "    value += 5"
      ],
      "metadata": {
        "colab": {
          "base_uri": "https://localhost:8080/"
        },
        "id": "cWNrCjuEKvEy",
        "outputId": "7e248080-09ab-4eaf-b7ec-1d4dd0b9325d"
      },
      "execution_count": null,
      "outputs": [
        {
          "output_type": "stream",
          "name": "stdout",
          "text": [
            "-10, -5, 0, 5, 10, 15, 20"
          ]
        }
      ]
    },
    {
      "cell_type": "code",
      "source": [
        "#Task 1c\n",
        "#c) 18, 27, 36, 45, 54, 63\n",
        "\n",
        "value = 18\n",
        "\n",
        "while value <= 63:\n",
        "    if value == 63:\n",
        "        print(value, end = \"\")\n",
        "    else:\n",
        "        print(value, end = \", \")\n",
        "    value += 9"
      ],
      "metadata": {
        "colab": {
          "base_uri": "https://localhost:8080/"
        },
        "id": "CC75JxW-LjA5",
        "outputId": "19d18d6b-e9ec-4f20-e9ac-8af2ed679221"
      },
      "execution_count": null,
      "outputs": [
        {
          "output_type": "stream",
          "name": "stdout",
          "text": [
            "18, 27, 36, 45, 54, 63"
          ]
        }
      ]
    },
    {
      "cell_type": "code",
      "source": [
        "#Task 1d\n",
        "#d) 18, -27, 36, -45, 54, -63\n",
        "\n",
        "value = 18\n",
        "\n",
        "while value <= 63:\n",
        "    result = value * ( (-1) ** value )\n",
        "\n",
        "    if value == 63:\n",
        "        print(result, end = \"\")\n",
        "    else:\n",
        "        print(result, end = \", \")\n",
        "    value += 9"
      ],
      "metadata": {
        "colab": {
          "base_uri": "https://localhost:8080/"
        },
        "id": "Np2vKLUIP31n",
        "outputId": "c6035062-1c5c-4842-8359-3635ad23d6e2"
      },
      "execution_count": null,
      "outputs": [
        {
          "output_type": "stream",
          "name": "stdout",
          "text": [
            "18, -27, 36, -45, 54, -63"
          ]
        }
      ]
    },
    {
      "cell_type": "code",
      "source": [
        "#Task 2\n",
        "\n",
        "name = input(\"Enter the name of your favourite car: \")\n",
        "number = int(input(\"Enter a number:\"))\n",
        "for car in range(number):\n",
        "    print(name)"
      ],
      "metadata": {
        "colab": {
          "base_uri": "https://localhost:8080/"
        },
        "id": "FhWzk5xwg9qM",
        "outputId": "9e7a3221-1246-4dbc-c055-a3bc230a4177"
      },
      "execution_count": null,
      "outputs": [
        {
          "output_type": "stream",
          "name": "stdout",
          "text": [
            "Enter the name of your favourite car: Toyota\n",
            "Enter a number:2\n",
            "Toyota\n",
            "Toyota\n"
          ]
        }
      ]
    },
    {
      "cell_type": "code",
      "source": [
        "#Task 3\n",
        "\n",
        "number = 0\n",
        "total = 0\n",
        "while number <= 600:\n",
        "    if number % 7 == 0 and number % 9 == 0:\n",
        "        total = total + number\n",
        "    number += 1\n",
        "print(total)"
      ],
      "metadata": {
        "colab": {
          "base_uri": "https://localhost:8080/"
        },
        "id": "dcz6FdsEk45h",
        "outputId": "94e2fea8-8d4b-48e6-e338-1b73a16cbdf7"
      },
      "execution_count": null,
      "outputs": [
        {
          "output_type": "stream",
          "name": "stdout",
          "text": [
            "2835\n"
          ]
        }
      ]
    },
    {
      "cell_type": "code",
      "source": [
        "#Task 4\n",
        "\n",
        "number = 0\n",
        "total = 0\n",
        "while number <= 600:\n",
        "    number += 1\n",
        "    if number % 7 == 0 and number % 9 == 0:\n",
        "        continue\n",
        "    if number % 7 == 0 or number % 9 == 0:\n",
        "        total = total + number\n",
        "print(total)"
      ],
      "metadata": {
        "colab": {
          "base_uri": "https://localhost:8080/"
        },
        "id": "e6XTgkPJl3tS",
        "outputId": "7ca2a092-4ef4-4fa5-e876-832e59399917"
      },
      "execution_count": null,
      "outputs": [
        {
          "output_type": "stream",
          "name": "stdout",
          "text": [
            "39814\n"
          ]
        }
      ]
    },
    {
      "cell_type": "code",
      "source": [
        "#Task 5\n",
        "\n",
        "for odd_numbers in range(10,50):\n",
        "    if odd_numbers % 2 != 0:\n",
        "        print(odd_numbers, end = \" \")"
      ],
      "metadata": {
        "colab": {
          "base_uri": "https://localhost:8080/"
        },
        "id": "tCreuOmBm-2_",
        "outputId": "f1cae691-52a9-49dc-87f9-f52858639282"
      },
      "execution_count": null,
      "outputs": [
        {
          "output_type": "stream",
          "name": "stdout",
          "text": [
            "11 13 15 17 19 21 23 25 27 29 31 33 35 37 39 41 43 45 47 49 "
          ]
        }
      ]
    },
    {
      "cell_type": "code",
      "source": [
        "#Task 6\n",
        "\n",
        "y = 0\n",
        "value = 1\n",
        "n = int(input(\"Enter the value of n: \"))\n",
        "\n",
        "while value <= n:\n",
        "    if value % 2 == 0:\n",
        "        y = y - value ** 2\n",
        "    else:\n",
        "        y = y + value ** 2\n",
        "    value += 1\n",
        "print(y)"
      ],
      "metadata": {
        "colab": {
          "base_uri": "https://localhost:8080/"
        },
        "id": "37_8caxXnknI",
        "outputId": "ce560fa2-ebf7-4992-de1d-1ce336eb99b5"
      },
      "execution_count": null,
      "outputs": [
        {
          "output_type": "stream",
          "name": "stdout",
          "text": [
            "Enter the value of n: 10\n",
            "-55\n"
          ]
        }
      ]
    },
    {
      "cell_type": "code",
      "source": [
        "#Task 7\n",
        "\n",
        "total = 0\n",
        "count = 0\n",
        "\n",
        "for number in range(10):\n",
        "    number = int(input(\"Enter the numbers: \"))\n",
        "    if number % 2 != 0:\n",
        "        total = total + number\n",
        "        count += 1\n",
        "average = total / count\n",
        "print(\"The total of the odd numbers is\", total,\n",
        "      \"and their average is\", average)"
      ],
      "metadata": {
        "colab": {
          "base_uri": "https://localhost:8080/"
        },
        "id": "GGFNPIgQpW9l",
        "outputId": "52163512-f3e6-4676-8ac4-0e0441b41a72"
      },
      "execution_count": null,
      "outputs": [
        {
          "output_type": "stream",
          "name": "stdout",
          "text": [
            "Enter the numbers: 1\n",
            "Enter the numbers: 2\n",
            "Enter the numbers: 3\n",
            "Enter the numbers: 4\n",
            "Enter the numbers: 5\n",
            "Enter the numbers: 6\n",
            "Enter the numbers: 7\n",
            "Enter the numbers: 8\n",
            "Enter the numbers: 9\n",
            "Enter the numbers: 10\n",
            "The total of the odd numbers is 25 and their average is 5.0\n"
          ]
        }
      ]
    },
    {
      "cell_type": "code",
      "source": [
        "#Task 8\n",
        "\n",
        "N = int(input(\"Enter a Number, N: \"))\n",
        "number = 0\n",
        "summation = 0\n",
        "while number <= N:\n",
        "    if number % 7 == 0:\n",
        "        summation = summation + number\n",
        "    number += 1\n",
        "print(summation)"
      ],
      "metadata": {
        "colab": {
          "base_uri": "https://localhost:8080/"
        },
        "id": "-MMoUzttsx46",
        "outputId": "65a774c1-9fc4-4713-e6c5-cb1633b697af"
      },
      "execution_count": null,
      "outputs": [
        {
          "output_type": "stream",
          "name": "stdout",
          "text": [
            "Enter a Number, N: 75\n",
            "385\n"
          ]
        }
      ]
    },
    {
      "cell_type": "code",
      "source": [
        "#Task 9\n",
        "\n",
        "total = 0\n",
        "sum = 0\n",
        "for numbers in range(5):\n",
        "    number = int(input(\"Enter the number: \"))\n",
        "    sum = number + sum\n",
        "    print(sum)"
      ],
      "metadata": {
        "colab": {
          "base_uri": "https://localhost:8080/"
        },
        "id": "bvKHNSkMuHJv",
        "outputId": "4f8da5c4-ab09-4087-cc2d-bfadf0bf2e42"
      },
      "execution_count": null,
      "outputs": [
        {
          "output_type": "stream",
          "name": "stdout",
          "text": [
            "Enter the number: 1\n",
            "1\n",
            "Enter the number: 2\n",
            "3\n",
            "Enter the number: 3\n",
            "6\n",
            "Enter the number: 4\n",
            "10\n",
            "Enter the number: 5\n",
            "15\n"
          ]
        }
      ]
    },
    {
      "cell_type": "code",
      "source": [
        "#Task 10\n",
        "\n",
        "user = int(input(\"Enter a number: \"))\n",
        "\n",
        "while True:\n",
        "    remainder = user % 10\n",
        "    user = user // 10\n",
        "    if user == 0:\n",
        "        print(remainder, end=\"\")\n",
        "        break\n",
        "    else:\n",
        "        print(remainder, end=\", \")"
      ],
      "metadata": {
        "colab": {
          "base_uri": "https://localhost:8080/"
        },
        "id": "okqktoVuxJRX",
        "outputId": "30e659fd-3cc9-4124-e2bb-56aa0b686662"
      },
      "execution_count": null,
      "outputs": [
        {
          "output_type": "stream",
          "name": "stdout",
          "text": [
            "Enter a number: 32768\n",
            "8, 6, 7, 2, 3"
          ]
        }
      ]
    },
    {
      "cell_type": "code",
      "source": [
        "#Task 11\n",
        "number = int(input(\"Enter a number: \"))\n",
        "digits = 0\n",
        "while number>0:\n",
        "    number = number // 10\n",
        "    digits += 1\n",
        "print(digits)"
      ],
      "metadata": {
        "colab": {
          "base_uri": "https://localhost:8080/"
        },
        "id": "RkZT2vlJIRwF",
        "outputId": "96b2dad7-f4e8-4f4a-e491-252a1beaf8cd"
      },
      "execution_count": null,
      "outputs": [
        {
          "output_type": "stream",
          "name": "stdout",
          "text": [
            "Enter a number: 34657\n",
            "5\n"
          ]
        }
      ]
    },
    {
      "cell_type": "code",
      "source": [
        "#Task 11\n",
        "\n",
        "number = int(input(\"Enter a number: \"))\n",
        "digits = 1\n",
        "while True:\n",
        "    number = number // 10\n",
        "    if number == 0:\n",
        "        break\n",
        "    else:\n",
        "        digits += 1\n",
        "print(digits)"
      ],
      "metadata": {
        "colab": {
          "base_uri": "https://localhost:8080/"
        },
        "id": "Gv-vqeW4z_M6",
        "outputId": "c00cd984-1bf7-40a4-d046-692ab5573128"
      },
      "execution_count": null,
      "outputs": [
        {
          "output_type": "stream",
          "name": "stdout",
          "text": [
            "Enter a number: 9876\n",
            "4\n"
          ]
        }
      ]
    },
    {
      "cell_type": "code",
      "source": [
        "#task12\n",
        "\n",
        "n=int(input())\n",
        "value=n\n",
        "count=0\n",
        "maltiplication=1\n",
        "while value!=0:\n",
        "  count+=1\n",
        "  value//=10\n",
        "count-=1\n",
        "for i in range(count):\n",
        "  maltiplication*=10\n",
        "while n!=0:\n",
        "  ans=n//maltiplication\n",
        "  n%=maltiplication\n",
        "  maltiplication//=10\n",
        "  if n==0:\n",
        "    print(ans)\n",
        "  else:\n",
        "    print(ans,end=\", \")"
      ],
      "metadata": {
        "colab": {
          "base_uri": "https://localhost:8080/"
        },
        "id": "4ZPc74HZ3Z2Q",
        "outputId": "ac05f558-d155-4a4c-d008-1a15cbb10ed5"
      },
      "execution_count": null,
      "outputs": [
        {
          "output_type": "stream",
          "name": "stdout",
          "text": [
            "657\n",
            "6, 5, 7\n"
          ]
        }
      ]
    },
    {
      "cell_type": "code",
      "source": [
        "#task12\n",
        "\n",
        "number = int(input(\"Enter a number: \"))\n",
        "number1 = number\n",
        "count = 0\n",
        "while number1 > 0:\n",
        "    x = number1 // 10\n",
        "    number1 = x\n",
        "    count += 1\n",
        "    while number1 ==0:\n",
        "        break\n",
        "p = 10 ** (count - 1)\n",
        "for i in range (0,count):\n",
        "    x = number // p\n",
        "    y = number % p\n",
        "    number = y\n",
        "    z = p // 10\n",
        "    p = z\n",
        "    print(x, end = \", \")\n",
        "if number % 10 == 0:\n",
        "    print(x, end = \" \")\n",
        "while number == 0:\n",
        "    break"
      ],
      "metadata": {
        "colab": {
          "base_uri": "https://localhost:8080/"
        },
        "id": "3wNKE-LywV3v",
        "outputId": "b97877b2-aa73-4a79-a4c5-e833dc49e9a8"
      },
      "execution_count": null,
      "outputs": [
        {
          "output_type": "stream",
          "name": "stdout",
          "text": [
            "Enter a number: 6758\n",
            "6, 7, 5, 8, 8 "
          ]
        }
      ]
    },
    {
      "cell_type": "code",
      "source": [
        "#Task 13\n",
        "\n",
        "count = 0\n",
        "number = int(input(\"Enter the number: \"))\n",
        "divisor = 1\n",
        "while True:\n",
        "    if divisor != number and number % divisor == 0:\n",
        "        print(divisor)\n",
        "        count += 1\n",
        "    if number == divisor:\n",
        "        print(divisor)\n",
        "        count += 1\n",
        "        break\n",
        "    divisor += 1\n",
        "print(\"Total {} divisors\".format(count))"
      ],
      "metadata": {
        "id": "hznqkE323sXy",
        "colab": {
          "base_uri": "https://localhost:8080/"
        },
        "outputId": "5e98bd56-d44a-4267-8e5b-85b745286131"
      },
      "execution_count": null,
      "outputs": [
        {
          "output_type": "stream",
          "name": "stdout",
          "text": [
            "Enter the number: 121\n",
            "1\n",
            "11\n",
            "121\n",
            "Total 3 divisors\n"
          ]
        }
      ]
    },
    {
      "cell_type": "code",
      "source": [
        "#Task 14\n",
        "\n",
        "number = int(input(\"Enter a number: \"))\n",
        "count = 0\n",
        "x = 0\n",
        "for i in range (1,number+1):\n",
        "    if number % 2 == 0:\n",
        "        x += 1\n",
        "        count += 1\n",
        "if count == number:\n",
        "    print(number, \"is a perfect number\")\n",
        "else:\n",
        "    print(number, \"is not a perfect number\")"
      ],
      "metadata": {
        "id": "Oe7nZcFJ8MRW",
        "colab": {
          "base_uri": "https://localhost:8080/"
        },
        "outputId": "91155d94-7250-4a7a-c674-99a86fdb5f3e"
      },
      "execution_count": null,
      "outputs": [
        {
          "output_type": "stream",
          "name": "stdout",
          "text": [
            "Enter a number: 6\n",
            "6 is a perfect number\n"
          ]
        }
      ]
    },
    {
      "cell_type": "code",
      "source": [
        "#Task 15\n",
        "\n",
        "count = 0\n",
        "number = int(input(\"enter the number: \"))\n",
        "prime_number= 1\n",
        "while prime_number <= number:\n",
        "    if number % prime_number == 0:\n",
        "        count += 1\n",
        "    prime_number += 1\n",
        "if count == 2:\n",
        "    print(number, \"is a prime number\")\n",
        "else:\n",
        "    print(number, \"is not a prime number\")"
      ],
      "metadata": {
        "id": "97A6EH5D8WCD",
        "colab": {
          "base_uri": "https://localhost:8080/"
        },
        "outputId": "76422985-6ea8-4b25-8b73-9dadbf7b1d7a"
      },
      "execution_count": null,
      "outputs": [
        {
          "output_type": "stream",
          "name": "stdout",
          "text": [
            "enter the number: 6\n",
            "6 is not a prime number\n"
          ]
        }
      ]
    },
    {
      "cell_type": "code",
      "source": [
        "#Task 16\n",
        "\n",
        "quantity = int(input(\"Quantity: \"))\n",
        "maximum = 0\n",
        "minimum = 0\n",
        "total = 0\n",
        "for x in range(quantity):\n",
        "    n = int(input())\n",
        "    total = total + n\n",
        "    if n > maximum:\n",
        "        maximum = n\n",
        "    elif minimum == 0:\n",
        "        minimum = n\n",
        "    elif n < minimum:\n",
        "        minimum = n\n",
        "print(\"Maximum\", maximum)\n",
        "print(\"Minimum\", minimum)\n",
        "print(\"Average is\", total / quantity)"
      ],
      "metadata": {
        "id": "YgObVw6w887s",
        "colab": {
          "base_uri": "https://localhost:8080/"
        },
        "outputId": "9f75e5a5-ad44-4dca-e02b-8dc168d1b370"
      },
      "execution_count": null,
      "outputs": [
        {
          "output_type": "stream",
          "name": "stdout",
          "text": [
            "Quantity: 5\n",
            "10\n",
            "4\n",
            "-1\n",
            "-100\n",
            "1\n",
            "Maximum 10\n",
            "Minimum -100\n",
            "Average is -17.2\n"
          ]
        }
      ]
    },
    {
      "cell_type": "code",
      "source": [
        "#Task 17\n",
        "\n",
        "N = int(input(\"Enter: \"))\n",
        "\n",
        "for m in range(N):\n",
        "    for n in range(N):\n",
        "        print(\"+\", end=\"\")\n",
        "    print()"
      ],
      "metadata": {
        "id": "wkU_30mf-EDM",
        "colab": {
          "base_uri": "https://localhost:8080/"
        },
        "outputId": "f96e9d54-2546-4ef0-846a-452fb1d1ae6b"
      },
      "execution_count": null,
      "outputs": [
        {
          "output_type": "stream",
          "name": "stdout",
          "text": [
            "Enter: 4\n",
            "++++\n",
            "++++\n",
            "++++\n",
            "++++\n"
          ]
        }
      ]
    },
    {
      "cell_type": "code",
      "source": [
        "#Task 18\n",
        "\n",
        "M= int(input(\"Height: \"))\n",
        "N= int(input(\"Length: \"))\n",
        "\n",
        "for line in range(M):\n",
        "    n = 1\n",
        "    for column in range(N):\n",
        "        print(n, end=\"\")\n",
        "        n += 1\n",
        "    print()"
      ],
      "metadata": {
        "id": "cocUBfBO-MRZ",
        "colab": {
          "base_uri": "https://localhost:8080/"
        },
        "outputId": "d99249e1-81a2-446d-b91c-ab95788ed2ce"
      },
      "execution_count": null,
      "outputs": [
        {
          "output_type": "stream",
          "name": "stdout",
          "text": [
            "Height: 4\n",
            "Length: 6\n",
            "123456\n",
            "123456\n",
            "123456\n",
            "123456\n"
          ]
        }
      ]
    },
    {
      "cell_type": "code",
      "source": [
        "#task19\n",
        "\n",
        "N = int(input(\"Height: \"))\n",
        "\n",
        "for m in range(1,N + 1):\n",
        "    n = 1\n",
        "    for x in range(m):\n",
        "        print(n, end=\"\")\n",
        "        n += 1\n",
        "    print()"
      ],
      "metadata": {
        "id": "HzDC1wxnogem",
        "colab": {
          "base_uri": "https://localhost:8080/"
        },
        "outputId": "2a4ac3c6-d1d1-42e3-f213-47c858901d2c"
      },
      "execution_count": null,
      "outputs": [
        {
          "output_type": "stream",
          "name": "stdout",
          "text": [
            "Height: 8\n",
            "1\n",
            "12\n",
            "123\n",
            "1234\n",
            "12345\n",
            "123456\n",
            "1234567\n",
            "12345678\n"
          ]
        }
      ]
    },
    {
      "cell_type": "code",
      "source": [
        "#Task 20\n",
        "x = 0\n",
        "p =0\n",
        "sum = 0\n",
        "p = 1\n",
        "x = 2\n",
        "q = None\n",
        "sum = 0\n",
        "while p < 12:\n",
        "    q = x + p - (sum + 7 / 3) / 3.0 % 2\n",
        "    sum = sum + x + int(q)\n",
        "    x += 1\n",
        "    print(sum)\n",
        "    if x > 5:\n",
        "        p += 4 / 2\n",
        "    else:\n",
        "        p += (3 % 1)\n",
        "sum = int(sum + p)\n",
        "print(sum)"
      ],
      "metadata": {
        "id": "IwOuKrF2Jr10",
        "colab": {
          "base_uri": "https://localhost:8080/"
        },
        "outputId": "ce88e0bb-ae5a-4bdf-8661-5a941dbd5f32"
      },
      "execution_count": null,
      "outputs": [
        {
          "output_type": "stream",
          "name": "stdout",
          "text": [
            "4\n",
            "10\n",
            "18\n",
            "28\n",
            "42\n",
            "60\n",
            "82\n",
            "108\n",
            "138\n",
            "151\n"
          ]
        }
      ]
    },
    {
      "cell_type": "code",
      "source": [
        "#Task 21\n",
        "\n",
        "x = 0\n",
        "p = 0\n",
        "sum = 0\n",
        "p = 1\n",
        "x = 2\n",
        "q = 0.0\n",
        "sum = 0\n",
        "while (p < 10) :\n",
        "  q = x + p - (sum + int(5 / 3)) / 3.0 % 2\n",
        "  sum = sum + x + int(q)\n",
        "  x += 1\n",
        "  print(sum)\n",
        "  if (x > 5) :\n",
        "    p += int(4 / 2)\n",
        "  else :\n",
        "    p += 3 % 1\n",
        "sum = sum + p\n",
        "print(sum)"
      ],
      "metadata": {
        "colab": {
          "base_uri": "https://localhost:8080/"
        },
        "id": "sPUQftTPSOXb",
        "outputId": "2320ab9c-97fd-4003-9827-a0ad93083077"
      },
      "execution_count": null,
      "outputs": [
        {
          "output_type": "stream",
          "name": "stdout",
          "text": [
            "4\n",
            "9\n",
            "16\n",
            "25\n",
            "39\n",
            "56\n",
            "78\n",
            "104\n",
            "115\n"
          ]
        }
      ]
    },
    {
      "cell_type": "code",
      "source": [
        "#Task 22\n",
        "\n",
        "x = y = 0\n",
        "sum = 0\n",
        "while (x < 10):\n",
        "  y = x - 3\n",
        "  while (y < 3):\n",
        "    sum = x - y * 2\n",
        "    print(sum)\n",
        "    y = y + 1\n",
        "  if (x > 7):\n",
        "    x += 1\n",
        "  else:\n",
        "    x += 3\n",
        "sum = x - y * 2\n",
        "print(sum)\n",
        "print(x)\n",
        "print(y)"
      ],
      "metadata": {
        "colab": {
          "base_uri": "https://localhost:8080/"
        },
        "id": "hdl-4DwpW77p",
        "outputId": "2fb0373e-fa29-4a90-d5f4-3e6fc0ed3d64"
      },
      "execution_count": null,
      "outputs": [
        {
          "output_type": "stream",
          "name": "stdout",
          "text": [
            "6\n",
            "4\n",
            "2\n",
            "0\n",
            "-2\n",
            "-4\n",
            "3\n",
            "1\n",
            "-1\n",
            "-2\n",
            "10\n",
            "6\n"
          ]
        }
      ]
    },
    {
      "cell_type": "code",
      "source": [
        "#Task 23\n",
        "\n",
        "x = 0\n",
        "y = 0\n",
        "sum = 0\n",
        "p = 0.0\n",
        "while (x < 10):\n",
        "    y = x // 2\n",
        "    while (y < x):\n",
        "        p = (x + 10.0) / 2\n",
        "        sum = (sum % 2) + x - y * 2 + int(p)\n",
        "        print(sum)\n",
        "        y = y + 2\n",
        "    if (x > 5):\n",
        "        x += 1\n",
        "    else:\n",
        "        x += 2"
      ],
      "metadata": {
        "colab": {
          "base_uri": "https://localhost:8080/"
        },
        "id": "YskKk9YeY4Bz",
        "outputId": "f43b44c2-c305-402d-da60-2fd8750a2e3e"
      },
      "execution_count": null,
      "outputs": [
        {
          "output_type": "stream",
          "name": "stdout",
          "text": [
            "6\n",
            "7\n",
            "9\n",
            "5\n",
            "10\n",
            "5\n",
            "10\n",
            "5\n",
            "11\n",
            "7\n",
            "3\n"
          ]
        }
      ]
    },
    {
      "cell_type": "code",
      "source": [
        "#Task 24\n",
        "\n",
        "test = 1\n",
        "j = 0\n",
        "k = 100\n",
        "while (k > 0):\n",
        "  while ( j < k ):\n",
        "    test = k + j -21\n",
        "    print(str(1 + int (test / 2)))\n",
        "    j += 10\n",
        "  k -= 10\n",
        "test = 1\n",
        "j = 0\n",
        "k = 100\n",
        "\n",
        "print(test)\n",
        "print(j)\n",
        "print(k)"
      ],
      "metadata": {
        "id": "ZxxCpBUNLUdI",
        "colab": {
          "base_uri": "https://localhost:8080/"
        },
        "outputId": "3f096482-a2f1-4e83-f5da-e5044c9264e2"
      },
      "execution_count": null,
      "outputs": [
        {
          "output_type": "stream",
          "name": "stdout",
          "text": [
            "40\n",
            "45\n",
            "50\n",
            "55\n",
            "60\n",
            "65\n",
            "70\n",
            "75\n",
            "80\n",
            "85\n",
            "1\n",
            "0\n",
            "100\n"
          ]
        }
      ]
    },
    {
      "cell_type": "code",
      "source": [],
      "metadata": {
        "id": "ZQ-2aNqOOduK"
      },
      "execution_count": null,
      "outputs": []
    }
  ]
}