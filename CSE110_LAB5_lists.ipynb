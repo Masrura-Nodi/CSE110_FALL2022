{
  "nbformat": 4,
  "nbformat_minor": 0,
  "metadata": {
    "colab": {
      "provenance": []
    },
    "kernelspec": {
      "name": "python3",
      "display_name": "Python 3"
    },
    "language_info": {
      "name": "python"
    }
  },
  "cells": [
    {
      "cell_type": "code",
      "execution_count": null,
      "metadata": {
        "colab": {
          "base_uri": "https://localhost:8080/"
        },
        "id": "p7Azt8v4OlWi",
        "outputId": "81fbf4a0-5ead-4e55-8bee-89dd1808f4ad"
      },
      "outputs": [
        {
          "output_type": "stream",
          "name": "stdout",
          "text": [
            "Enter the numbers: 3\n",
            "\"Numbers in the list: [3]\"\n",
            "Enter the numbers: 5\n",
            "\"Numbers in the list: [3, 5]\"\n",
            "Enter the numbers: 34\n",
            "\"Numbers in the list: [3, 5, 34]\"\n",
            "Enter the numbers: -11\n",
            "\"Numbers in the list: [3, 5, 34, -11]\"\n",
            "Enter the numbers: 0\n",
            "\"Numbers in the list: [3, 5, 34, -11, 0]\"\n"
          ]
        }
      ],
      "source": [
        "#Task1\n",
        "#Write a Python program that reads 5 numbers from the user into a list.\n",
        "#After reading each number, print all the numbers that have been entered so far in the list.\n",
        "\n",
        "list1 = []\n",
        "for num in range (5):\n",
        "    number = int(input(\"Enter the numbers: \"))\n",
        "    list1.append(number)\n",
        "    print('\"Numbers in the list: {}\"'.format(list1))"
      ]
    },
    {
      "cell_type": "code",
      "source": [
        "#Task 2\n",
        "#Write a Python program that takes an input from the user,\n",
        "#then creates a new list excluding the first and last two elements of the given list and prints the new list.\n",
        "#If there are not enough elements in the list to do the task, print \"Not possible\".\n",
        "\n",
        "user = input(\"Enter the numbers: \")\n",
        "spl = user.split(\",\")\n",
        "list1 = []\n",
        "length = len(list1)\n",
        "for numbers in spl:\n",
        "  list1.append(int(numbers))\n",
        "if len(list1)<4:\n",
        "  print(\"Not possible\")\n",
        "else:\n",
        "  print(list1[2:len(list1)-2:])"
      ],
      "metadata": {
        "colab": {
          "base_uri": "https://localhost:8080/"
        },
        "id": "6H2CQ9HpO1EX",
        "outputId": "d631cf17-3b9b-4d0a-c7c2-f9b092ccb183"
      },
      "execution_count": null,
      "outputs": [
        {
          "output_type": "stream",
          "name": "stdout",
          "text": [
            "Enter the numbers: 10, 20, 24, 25, 26, 35, 70\n",
            "[24, 25, 26]\n"
          ]
        }
      ]
    },
    {
      "cell_type": "code",
      "source": [
        "#Task 3\n",
        "#Write a python program that reads 5 numbers from the user into a list,\n",
        "#and then prints them in the reverse order.\n",
        "\n",
        "list1 = []\n",
        "for num in range(5):\n",
        "  user = int(input(\"Enter the numbers: \"))\n",
        "  list1.append(user)\n",
        "list2 = list1[::-1]\n",
        "for values in list2:\n",
        "  print(values)"
      ],
      "metadata": {
        "colab": {
          "base_uri": "https://localhost:8080/"
        },
        "id": "C1CY5IhZS-v5",
        "outputId": "9024f4fa-b8d4-46d9-b287-992fb5c4788d"
      },
      "execution_count": null,
      "outputs": [
        {
          "output_type": "stream",
          "name": "stdout",
          "text": [
            "Enter the numbers: 5\n",
            "Enter the numbers: 5\n",
            "Enter the numbers: 7\n",
            "Enter the numbers: 0\n",
            "Enter the numbers: 1\n",
            "1\n",
            "0\n",
            "7\n",
            "5\n",
            "5\n"
          ]
        }
      ]
    },
    {
      "cell_type": "code",
      "source": [
        "#Task4\n",
        "#Write a Python program that turns every item of a list into its square.\n",
        "#[Your program should work for any lists;\n",
        "#make changes to the lists below and check whether your program works correctly]\n",
        "\n",
        "Given_list = [3, 5, 1, 6]\n",
        "\n",
        "new_list = []\n",
        "for n in range(len(Given_list)):\n",
        "    new_list.append(Given_list[n]**2)\n",
        "print(new_list)"
      ],
      "metadata": {
        "colab": {
          "base_uri": "https://localhost:8080/"
        },
        "id": "zgw0TYpnWc5P",
        "outputId": "4f1550aa-6b44-4a23-dd28-1fcdc624a3cd"
      },
      "execution_count": null,
      "outputs": [
        {
          "output_type": "stream",
          "name": "stdout",
          "text": [
            "[9, 25, 1, 36]\n"
          ]
        }
      ]
    },
    {
      "cell_type": "code",
      "source": [
        "#Task5\n",
        "#Write a Python program that removes all Empty strings from a given list and prints the modified list.\n",
        "#[Your program should work for any given list;\n",
        "#make changes to the list below and check whether your program works correctly]\n",
        "\n",
        "Given_list=['hey', 'there', '', \"what's\", '', 'up', '', '?']\n",
        "print(\"Original list: \",Given_list)\n",
        "while \"\" in Given_list:\n",
        "  Given_list.remove(\"\")\n",
        "print(\"Modified list: \",Given_list)"
      ],
      "metadata": {
        "colab": {
          "base_uri": "https://localhost:8080/"
        },
        "id": "G_K845bNXPpJ",
        "outputId": "2fab9511-b4e8-4ff5-8c2f-960bed622fc6"
      },
      "execution_count": null,
      "outputs": [
        {
          "output_type": "stream",
          "name": "stdout",
          "text": [
            "Original list:  ['hey', 'there', '', \"what's\", '', 'up', '', '?']\n",
            "Modified list:  ['hey', 'there', \"what's\", 'up', '?']\n"
          ]
        }
      ]
    },
    {
      "cell_type": "code",
      "source": [
        "#Task 6\n",
        "#Write a Python program that reads a string containing 7 numbers separated by commas,\n",
        "#then makes a list of those numbers\n",
        "#and prints the largest number and its location or index position in the list.\n",
        "#[You are not allowed to use the max(), sort(), sorted() function here]\n",
        "\n",
        "string = input(\"Enter the string: \")\n",
        "spl = string.split(\",\")\n",
        "list1 = []\n",
        "for n in spl:\n",
        "  list1.append(int(n))\n",
        "l_num = list1[0]\n",
        "index = 0\n",
        "for num in range(len(list1)):\n",
        "  if list1[num]>l_num:\n",
        "    l_num = list1[num]\n",
        "    index=num\n",
        "print(\"My list: \",list1)\n",
        "print(\"Largest number in the list is\", l_num, \"which was found at index\", index)"
      ],
      "metadata": {
        "colab": {
          "base_uri": "https://localhost:8080/"
        },
        "id": "CWSY07QVPIS8",
        "outputId": "0db61d5b-efac-480f-e27b-09968071eac1"
      },
      "execution_count": null,
      "outputs": [
        {
          "output_type": "stream",
          "name": "stdout",
          "text": [
            "Enter the string: 7, 13, 2, 10, 6, -11, 0\n",
            "My list:  [7, 13, 2, 10, 6, -11, 0]\n",
            "Largest number in the list is 13 which was found at index 1\n"
          ]
        }
      ]
    },
    {
      "cell_type": "code",
      "source": [
        "#Task 7\n",
        "#Suppose you have been given two lists.\n",
        "#Write a Python program that replaces the last element of the first list with the second list.\n",
        "#[Your program should work for any two given lists;\n",
        "#make changes to the lists below and check whether your program works correctly]\n",
        "\n",
        "List_one = [1, 4, 7, 5]\n",
        "List_two = [6, 1, 3, 9]\n",
        "print(List_one[:len(List_one)-1]+List_two)"
      ],
      "metadata": {
        "colab": {
          "base_uri": "https://localhost:8080/"
        },
        "id": "9bwqgxGmiOvl",
        "outputId": "267062a7-84ea-4a54-819b-fbc7d461d646"
      },
      "execution_count": null,
      "outputs": [
        {
          "output_type": "stream",
          "name": "stdout",
          "text": [
            "[1, 4, 7, 6, 1, 3, 9]\n"
          ]
        }
      ]
    },
    {
      "cell_type": "code",
      "source": [
        "#Task 8\n",
        "#Assume, you have been given two lists.\n",
        "#[Your program should work for any two given lists;\n",
        "#change the following lists and check whether your program works correctly for the code you have written]\n",
        "\n",
        "list_one = [1, 2, 3, 4, 5, 6, 7, 8, 9]\n",
        "list_two = [10, 11, 12, -13, -14, -15, -16]\n",
        "new_list = list_one+list_two\n",
        "final_list = []\n",
        "\n",
        "for num in new_list:\n",
        "  if num%2==0:\n",
        "    final_list.append(num)\n",
        "\n",
        "print(final_list)"
      ],
      "metadata": {
        "colab": {
          "base_uri": "https://localhost:8080/"
        },
        "id": "GkYZ7novmTO4",
        "outputId": "fdf8fe0f-26bd-4eb1-dd2a-f9fe950780da"
      },
      "execution_count": null,
      "outputs": [
        {
          "output_type": "stream",
          "name": "stdout",
          "text": [
            "[2, 4, 6, 8, 10, 12, -14, -16]\n"
          ]
        }
      ]
    },
    {
      "cell_type": "code",
      "source": [
        "#Task 9\n",
        "#Write a Python program that reads a string as an input from the user where multiple numbers are separated by spaces.\n",
        "#Then, make a list of numbers from the input string without using the split() function and print the list.\n",
        "#Finally, remove all the occurrences of even numbers from the same input list and print the modified list.\n",
        "\n",
        "list1= []\n",
        "new_list = []\n",
        "string = input()\n",
        "store = \"\"\n",
        "\n",
        "for n in string:\n",
        "  if n!=\" \":\n",
        "    store+=n\n",
        "\n",
        "  else:\n",
        "    list1.append(int(store))\n",
        "    store=\"\"\n",
        "\n",
        "for num in list1:\n",
        "  if num%2!=0:\n",
        "    new_list.append(num)\n",
        "\n",
        "\n",
        "print(\"Original list: \", list1)\n",
        "print(\"Modified list: \", new_list)"
      ],
      "metadata": {
        "colab": {
          "base_uri": "https://localhost:8080/"
        },
        "id": "wWbUtS7zmTGq",
        "outputId": "1b3419f8-f86e-4006-83e7-8dda7eaab2c1"
      },
      "execution_count": null,
      "outputs": [
        {
          "output_type": "stream",
          "name": "stdout",
          "text": [
            "7 12 4 55 96 2 11 61 33 42\n",
            "Original list:  [7, 12, 4, 55, 96, 2, 11, 61, 33]\n",
            "Modified list:  [7, 55, 11, 61, 33]\n"
          ]
        }
      ]
    },
    {
      "cell_type": "code",
      "source": [
        "#task10\n",
        "\n",
        "string = input(\"Enter the string: \")\n",
        "new_s =\"\"\n",
        "for n in user:\n",
        "  if n != ' ':\n",
        "    new_s = new_s+n\n",
        "  else:\n",
        "    pass\n",
        "new_s = new_s+ ','\n",
        "store=\"\"\n",
        "new_list = []\n",
        "for num in new_s:\n",
        "  if num != ',':\n",
        "    store= store+num\n",
        "  else:\n",
        "    new_list.append(int(store))\n",
        "    store =''\n",
        "print(\"Input list:\", new_list)\n",
        "final_list = []\n",
        "for numbers in new_list:\n",
        "  if numbers not in final_list:\n",
        "    final_list.append(numbers)\n",
        "  else:\n",
        "    pass\n",
        "print(\"Modified list:\", final_list)"
      ],
      "metadata": {
        "id": "vwXqFJiL1LJY",
        "colab": {
          "base_uri": "https://localhost:8080/"
        },
        "outputId": "b03a48c7-ee74-47eb-f22f-78a71532e958"
      },
      "execution_count": null,
      "outputs": [
        {
          "output_type": "stream",
          "name": "stdout",
          "text": [
            "Enter the string: 0, 0, 1, 2, 3, 4, 4, 5, 6, 6, 6, 7, 8, 9, 4, 4\n",
            "Input list: [0, 0, 1, 2, 3, 4, 4, 5, 6, 6, 6, 7, 8, 9, 4, 4]\n",
            "Modified list: [0, 1, 2, 3, 4, 5, 6, 7, 8, 9]\n"
          ]
        }
      ]
    },
    {
      "cell_type": "code",
      "source": [
        "#Task11\n",
        "#Assume, you have been given two lists: List_one and List_two.\n",
        "#[Your program should work for any two given lists;\n",
        "#change the following lists and check whether your program works correctly for the code you have written]\n",
        "#Write a Python program that prints \"True\", if the given two lists have at least one common member. Otherwise, print \"False\".\n",
        "\n",
        "List_one = [1, 4, 3, 2, 5]\n",
        "List_two = [8, 7, 6, 9]\n",
        "ans = True\n",
        "for n in List_one:\n",
        "    if n in List_two:\n",
        "        ans = True\n",
        "        break\n",
        "    else:\n",
        "        ans = False\n",
        "print(ans)"
      ],
      "metadata": {
        "id": "vtApZS3YtZFa",
        "colab": {
          "base_uri": "https://localhost:8080/"
        },
        "outputId": "9267cf34-e06f-45de-8157-e53daf6ca74b"
      },
      "execution_count": null,
      "outputs": [
        {
          "output_type": "stream",
          "name": "stdout",
          "text": [
            "False\n"
          ]
        }
      ]
    },
    {
      "cell_type": "code",
      "source": [
        "myList = [0, 0, 0, 0, 0, 0, 0, 0, 0, 0]\n",
        "index1 = 0\n",
        "index2 = 0\n",
        "index1 = 1\n",
        "while(index1<10):\n",
        "  myList[index1] = index1+4\n",
        "  index2 = 1\n",
        "  while(index2<index1):\n",
        "      myList[index1] = myList[index1] + myList[index2]-index1\n",
        "      index2 = index2+1\n",
        "  print(myList[index1])\n",
        "  index1 = index1+1\n",
        "\n"
      ],
      "metadata": {
        "id": "2yYVC6MsEwct",
        "outputId": "f2361225-bf82-4c6a-b205-0ccf58f1aff2",
        "colab": {
          "base_uri": "https://localhost:8080/"
        }
      },
      "execution_count": null,
      "outputs": [
        {
          "output_type": "stream",
          "name": "stdout",
          "text": [
            "5\n",
            "9\n",
            "15\n",
            "25\n",
            "43\n",
            "77\n",
            "143\n",
            "273\n",
            "531\n"
          ]
        }
      ]
    }
  ]
}