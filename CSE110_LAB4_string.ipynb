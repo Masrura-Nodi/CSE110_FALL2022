{
  "nbformat": 4,
  "nbformat_minor": 0,
  "metadata": {
    "colab": {
      "provenance": []
    },
    "kernelspec": {
      "name": "python3",
      "display_name": "Python 3"
    },
    "language_info": {
      "name": "python"
    }
  },
  "cells": [
    {
      "cell_type": "code",
      "execution_count": null,
      "metadata": {
        "colab": {
          "base_uri": "https://localhost:8080/"
        },
        "id": "W3BvpBVhME_b",
        "outputId": "b1a7e886-aab1-442b-bc89-ec17d6c65bf8"
      },
      "outputs": [
        {
          "output_type": "stream",
          "name": "stdout",
          "text": [
            "Enter the string: CSE110\n",
            "011ESC\n"
          ]
        }
      ],
      "source": [
        "#Task 1\n",
        "\n",
        "string = input(\"Enter the string: \")\n",
        "reverse = string[::-1]\n",
        "\n",
        "print(reverse)"
      ]
    },
    {
      "cell_type": "code",
      "source": [
        "#Task 2\n",
        "\n",
        "string = input(\"Enter the string: \")\n",
        "index = int(input(\"Index of the given string: \"))\n",
        "remaining = index + 1\n",
        "new_string = string[index::-1] + string[remaining::]\n",
        "print(new_string)"
      ],
      "metadata": {
        "id": "BXFpmgbhQJ2Z",
        "colab": {
          "base_uri": "https://localhost:8080/"
        },
        "outputId": "318a54d4-db7a-4679-883d-2d41aa7de654"
      },
      "execution_count": null,
      "outputs": [
        {
          "output_type": "stream",
          "name": "stdout",
          "text": [
            "Enter the string: aBcd1234defg\n",
            "Index of the given string: 5\n",
            "21dcBa34defg\n"
          ]
        }
      ]
    },
    {
      "cell_type": "code",
      "source": [
        "#Task 3\n",
        "\n",
        "string = input(\"Enter the string: \")\n",
        "number = 0\n",
        "for n in range(len(string)):\n",
        "    if string[n] != \"0\" and string[n] != \"1\":\n",
        "        number = \"Not a Binary Number\"\n",
        "        break\n",
        "    else:\n",
        "        number = \"Binary Number\"\n",
        "print(number)"
      ],
      "metadata": {
        "colab": {
          "base_uri": "https://localhost:8080/"
        },
        "id": "ierrnFvzXOru",
        "outputId": "1014fbcb-aa98-4969-cd7b-1debe967fb96"
      },
      "execution_count": null,
      "outputs": [
        {
          "output_type": "stream",
          "name": "stdout",
          "text": [
            "Enter the string: Binary Number\n",
            "Not a Binary Number\n"
          ]
        }
      ]
    },
    {
      "cell_type": "code",
      "source": [
        "#Task 4\n",
        "\n",
        "word = input(\"Enter a word: \")\n",
        "\n",
        "if len(word)<4:\n",
        "    if word[-2:]==\"er\":\n",
        "        print(word[:-2]+\"est\")\n",
        "    elif word[-3:]==\"est\":\n",
        "        print(word)\n",
        "    else:\n",
        "        print(word)\n",
        "\n",
        "elif len(word)>3:\n",
        "    if word[-2:]==\"er\":\n",
        "        print(word[:-2]+\"est\")\n",
        "    elif word[-3:]==\"est\":\n",
        "        print(word)\n",
        "    else:\n",
        "        print(word+\"er\")"
      ],
      "metadata": {
        "colab": {
          "base_uri": "https://localhost:8080/"
        },
        "id": "Iz5rFYlcLW8K",
        "outputId": "a91a248a-a823-40ca-80f4-4cc0ed13073c"
      },
      "execution_count": null,
      "outputs": [
        {
          "output_type": "stream",
          "name": "stdout",
          "text": [
            "Enter a word: ber\n",
            "best\n"
          ]
        }
      ]
    },
    {
      "cell_type": "code",
      "source": [
        "#task 5\n",
        "\n",
        "string = input(\"Enter the string: \")\n",
        "substring = \"\"\n",
        "for n in range(0,len(string)):\n",
        "    substring = substring + string[n]\n",
        "    print(substring, end = \"\")\n",
        "    print()"
      ],
      "metadata": {
        "colab": {
          "base_uri": "https://localhost:8080/"
        },
        "id": "u2NCCd0xjNV3",
        "outputId": "51caf43c-b348-4690-befa-201da4c6255a"
      },
      "execution_count": null,
      "outputs": [
        {
          "output_type": "stream",
          "name": "stdout",
          "text": [
            "Enter the string: najiik\n",
            "n\n",
            "na\n",
            "naj\n",
            "naji\n",
            "najii\n",
            "najiik\n"
          ]
        }
      ]
    },
    {
      "cell_type": "code",
      "source": [
        "#Task 6\n",
        "\n",
        "string = input(\"Enter the string: \")\n",
        "\n",
        "for s in range(len(string)):\n",
        "    code = ord(string[s])\n",
        "    print(string[s], \":\", code)"
      ],
      "metadata": {
        "colab": {
          "base_uri": "https://localhost:8080/"
        },
        "id": "aCFqUkPbP31q",
        "outputId": "8368ef99-a7bd-4f8e-fe97-be68bca7d822"
      },
      "execution_count": null,
      "outputs": [
        {
          "output_type": "stream",
          "name": "stdout",
          "text": [
            "Enter the string: hunger\n",
            "h : 104\n",
            "u : 117\n",
            "n : 110\n",
            "g : 103\n",
            "e : 101\n",
            "r : 114\n"
          ]
        }
      ]
    },
    {
      "cell_type": "code",
      "source": [
        "#Task 7\n",
        "\n",
        "\n",
        "string = input(\"Enter the string: \")\n",
        "\n",
        "for s in range(len(string)):\n",
        "    code = ord(string[s])\n",
        "    if string[s]==\"z\":\n",
        "        code = 96\n",
        "    print(chr(code + 1), end=\"\")"
      ],
      "metadata": {
        "colab": {
          "base_uri": "https://localhost:8080/"
        },
        "id": "QHIlAmKDQ4X_",
        "outputId": "7ccd27bb-b331-4c4e-fbce-89e31e3d8fec"
      },
      "execution_count": null,
      "outputs": [
        {
          "output_type": "stream",
          "name": "stdout",
          "text": [
            "Enter the string: xyzabc\n",
            "yzabcd"
          ]
        }
      ]
    },
    {
      "cell_type": "code",
      "source": [
        "#Task 8\n",
        "\n",
        "string= input(\"Enter the string: \")\n",
        "\n",
        "for s in range(0,len(string)):\n",
        "    if s%2 != 0:\n",
        "        code=ord(string[s])\n",
        "        print(chr(code-32), end=\"\")"
      ],
      "metadata": {
        "colab": {
          "base_uri": "https://localhost:8080/"
        },
        "id": "lahrmS_TTztI",
        "outputId": "8d0f047e-dbb8-4ada-e657-af51bd232751"
      },
      "execution_count": null,
      "outputs": [
        {
          "output_type": "stream",
          "name": "stdout",
          "text": [
            "Enter the string: String\n",
            "TIG"
          ]
        }
      ]
    },
    {
      "cell_type": "code",
      "source": [
        "#Task 9\n",
        "\n",
        "string= input(\"Enter the string: \")\n",
        "\n",
        "for s in range(0,len(string)):\n",
        "    if s == 0:\n",
        "        print(string[s],end=\"\")\n",
        "        continue\n",
        "    elif string[s] != string[s-1]:\n",
        "        print(string[s], end=\"\")\n",
        "    else:\n",
        "        print(\"\",end=\"\")"
      ],
      "metadata": {
        "colab": {
          "base_uri": "https://localhost:8080/"
        },
        "id": "dXCD6VYBWioo",
        "outputId": "bba7dee7-562a-4c16-f320-ccc3e234f74f"
      },
      "execution_count": null,
      "outputs": [
        {
          "output_type": "stream",
          "name": "stdout",
          "text": [
            "Enter the string: upyter Notebook is better. Case sensitivity check AAaaaAaaAAAa.\n",
            "upyter Notebok is beter. Case sensitivity check AaAaAa."
          ]
        }
      ]
    },
    {
      "cell_type": "code",
      "source": [
        "#Task10\n",
        "\n",
        "str1= input(\"Enter the string: \")\n",
        "str2= input(\"Enter the string: \")\n",
        "s = min(len(str1), len(str2))\n",
        "str4 = \"\"\n",
        "if len(str1) > len(str2):\n",
        "    str3 = str1[:s]\n",
        "    str4 = str1[s:]\n",
        "elif len(str1) < len(str2):\n",
        "    str3 = str2[:s]\n",
        "    str4 = str2[s:]\n",
        "\n",
        "for n in range(0, s):\n",
        "    print(str1[n] + str2[n], end=\"\")\n",
        "print(str4)"
      ],
      "metadata": {
        "colab": {
          "base_uri": "https://localhost:8080/"
        },
        "id": "y9xShIVpa5az",
        "outputId": "1460ca39-67a2-4308-f2df-5f51b41d9fc7"
      },
      "execution_count": null,
      "outputs": [
        {
          "output_type": "stream",
          "name": "stdout",
          "text": [
            "Enter the string: ABCD\n",
            "Enter the string: efgh\n",
            "AeBfCgDh\n"
          ]
        }
      ]
    },
    {
      "cell_type": "code",
      "source": [
        "#Task11\n",
        "\n",
        "i = 10\n",
        "while(i >= -20):\n",
        "    if(i < 0):\n",
        "        test = \" != \"\n",
        "        test = str(i//2) + test + str(int(i/2))\n",
        "    else:\n",
        "        test = \" == \"\n",
        "        test = str(i//2) + test + str(int(i/2))\n",
        "    print(test)\n",
        "    i -= 5"
      ],
      "metadata": {
        "colab": {
          "base_uri": "https://localhost:8080/"
        },
        "id": "dDvx7VZWukL5",
        "outputId": "05651cb2-3c2c-460e-ed59-1c4226ab7dff"
      },
      "execution_count": null,
      "outputs": [
        {
          "output_type": "stream",
          "name": "stdout",
          "text": [
            "5 == 5\n",
            "2 == 2\n",
            "0 == 0\n",
            "-3 != -2\n",
            "-5 != -5\n",
            "-8 != -7\n",
            "-10 != -10\n"
          ]
        }
      ]
    },
    {
      "cell_type": "code",
      "source": [
        "#Task12\n",
        "\n",
        "test = \"\"\n",
        "i = 0\n",
        "j = 0\n",
        "k = 15\n",
        "test = \"-->\"\n",
        "while i < 5:\n",
        "    j = k - 1\n",
        "    k -= 1\n",
        "    while j > 10:\n",
        "        test = str(i + j) + \"-->\" + test\n",
        "        print(test)\n",
        "        j -= 1\n",
        "    i += 1"
      ],
      "metadata": {
        "colab": {
          "base_uri": "https://localhost:8080/"
        },
        "id": "Z-qBInIXcsam",
        "outputId": "45f4e2f4-40e5-464b-cce1-25e9549e4e46"
      },
      "execution_count": null,
      "outputs": [
        {
          "output_type": "stream",
          "name": "stdout",
          "text": [
            "14-->-->\n",
            "13-->14-->-->\n",
            "12-->13-->14-->-->\n",
            "11-->12-->13-->14-->-->\n",
            "14-->11-->12-->13-->14-->-->\n",
            "13-->14-->11-->12-->13-->14-->-->\n",
            "12-->13-->14-->11-->12-->13-->14-->-->\n",
            "14-->12-->13-->14-->11-->12-->13-->14-->-->\n",
            "13-->14-->12-->13-->14-->11-->12-->13-->14-->-->\n",
            "14-->13-->14-->12-->13-->14-->11-->12-->13-->14-->-->\n"
          ]
        }
      ]
    },
    {
      "cell_type": "code",
      "source": [
        "#Task13\n",
        "\n",
        "test = \"\"\n",
        "i = 5\n",
        "j = 0\n",
        "k = 15\n",
        "while i< 10:\n",
        "    k-=1\n",
        "    j = k\n",
        "    while j > 10:\n",
        "        if (j % 2) == 0:\n",
        "            test = \"<--\"\n",
        "            test = str(test) + str(i) + str(2) + \"-->\" + str(int(j / 2))\n",
        "        else:\n",
        "            test = \"-->\"\n",
        "            test = \"-->\" + str(int(i / 2)) + str(test) + str(j)\n",
        "        print(test)\n",
        "        j = j-1\n",
        "    i+=1"
      ],
      "metadata": {
        "colab": {
          "base_uri": "https://localhost:8080/"
        },
        "id": "Ugk9GpbKcOzh",
        "outputId": "ced93731-8113-4414-be00-5a3b74902299"
      },
      "execution_count": null,
      "outputs": [
        {
          "output_type": "stream",
          "name": "stdout",
          "text": [
            "<--52-->7\n",
            "-->2-->13\n",
            "<--52-->6\n",
            "-->2-->11\n",
            "-->3-->13\n",
            "<--62-->6\n",
            "-->3-->11\n",
            "<--72-->6\n",
            "-->3-->11\n",
            "-->4-->11\n"
          ]
        }
      ]
    },
    {
      "cell_type": "code",
      "source": [
        "#Task14\n",
        "\n",
        "test = \"\"\n",
        "i = 5\n",
        "j = 0\n",
        "k = 15\n",
        "while (i< 10):\n",
        "    k-=1\n",
        "    j = k\n",
        "    while (j > 10 ):\n",
        "        if j % 2 == 0:\n",
        "            test = \"<--\"\n",
        "            test = test + str( i) + '3' + \"-->\" + str(j // 3)\n",
        "        else:\n",
        "            test = \"-->\"\n",
        "            test = \"-->\" + str((i // 3)) + test + str(j)\n",
        "        print(test)\n",
        "        j -=1\n",
        "    i+=1"
      ],
      "metadata": {
        "colab": {
          "base_uri": "https://localhost:8080/"
        },
        "id": "993epnaBb76m",
        "outputId": "73b0c645-1268-48a6-b98f-fa43f342672d"
      },
      "execution_count": null,
      "outputs": [
        {
          "output_type": "stream",
          "name": "stdout",
          "text": [
            "<--53-->4\n",
            "-->1-->13\n",
            "<--53-->4\n",
            "-->1-->11\n",
            "-->2-->13\n",
            "<--63-->4\n",
            "-->2-->11\n",
            "<--73-->4\n",
            "-->2-->11\n",
            "-->2-->11\n"
          ]
        }
      ]
    },
    {
      "cell_type": "code",
      "source": [
        "#Task15\n",
        "\n",
        "i=0\n",
        "j=0\n",
        "k=15\n",
        "test = '<--cat'\n",
        "while i < 5:\n",
        "    k -= 1\n",
        "    j = k\n",
        "    while j > 10:\n",
        "        if j % 2 == 0:\n",
        "            test += '-->'\n",
        "            test = test + str(i) + str(j // 2)\n",
        "        else:\n",
        "            test += '<--'\n",
        "            test = test + str(i // 2) + str(j)\n",
        "        print(test)\n",
        "        j-=1\n",
        "    i+=1\n",
        "print(k)"
      ],
      "metadata": {
        "colab": {
          "base_uri": "https://localhost:8080/"
        },
        "id": "lyGFXB8qbwtR",
        "outputId": "fbd69d4b-ef02-4c81-bb37-d0136cc74afa"
      },
      "execution_count": null,
      "outputs": [
        {
          "output_type": "stream",
          "name": "stdout",
          "text": [
            "<--cat-->07\n",
            "<--cat-->07<--013\n",
            "<--cat-->07<--013-->06\n",
            "<--cat-->07<--013-->06<--011\n",
            "<--cat-->07<--013-->06<--011<--013\n",
            "<--cat-->07<--013-->06<--011<--013-->16\n",
            "<--cat-->07<--013-->06<--011<--013-->16<--011\n",
            "<--cat-->07<--013-->06<--011<--013-->16<--011-->26\n",
            "<--cat-->07<--013-->06<--011<--013-->16<--011-->26<--111\n",
            "<--cat-->07<--013-->06<--011<--013-->16<--011-->26<--111<--111\n",
            "10\n"
          ]
        }
      ]
    }
  ]
}