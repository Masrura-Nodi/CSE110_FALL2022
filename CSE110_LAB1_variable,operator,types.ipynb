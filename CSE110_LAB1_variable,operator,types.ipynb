{
  "nbformat": 4,
  "nbformat_minor": 0,
  "metadata": {
    "colab": {
      "provenance": []
    },
    "kernelspec": {
      "name": "python3",
      "display_name": "Python 3"
    },
    "language_info": {
      "name": "python"
    }
  },
  "cells": [
    {
      "cell_type": "code",
      "execution_count": null,
      "metadata": {
        "colab": {
          "base_uri": "https://localhost:8080/"
        },
        "id": "_eajUB9JIBqG",
        "outputId": "e4de271f-8ea1-4f39-a0c2-60297e998478"
      },
      "outputs": [
        {
          "output_type": "stream",
          "name": "stdout",
          "text": [
            "hello world\n"
          ]
        }
      ],
      "source": [
        "#Task1\n",
        "\n",
        "print (\"hello world\")"
      ]
    },
    {
      "cell_type": "code",
      "source": [
        "#Task2\n",
        "\n",
        "print (54+56)"
      ],
      "metadata": {
        "colab": {
          "base_uri": "https://localhost:8080/"
        },
        "id": "r_EWWd6VOHUp",
        "outputId": "e318f728-bfdb-4e1a-dcef-995282dd3fb5"
      },
      "execution_count": null,
      "outputs": [
        {
          "output_type": "stream",
          "name": "stdout",
          "text": [
            "110\n"
          ]
        }
      ]
    },
    {
      "cell_type": "code",
      "source": [
        "#Task3\n",
        "\n",
        "season = \"Fall\"\n",
        "year = 2022\n",
        "\n",
        "print(season)\n",
        "print(year)"
      ],
      "metadata": {
        "colab": {
          "base_uri": "https://localhost:8080/"
        },
        "id": "SE8DOFU5PGsM",
        "outputId": "1523e351-ffc8-42d8-937b-222dd6c348b4"
      },
      "execution_count": null,
      "outputs": [
        {
          "output_type": "stream",
          "name": "stdout",
          "text": [
            "Fall\n",
            "2022\n"
          ]
        }
      ]
    },
    {
      "cell_type": "code",
      "source": [
        "#Task4\n",
        "\n",
        "name_1=input()\n",
        "name_2=input()\n",
        "print (\"Your name is\",name_1)\n",
        "print (\"Your name is\",name_2)"
      ],
      "metadata": {
        "colab": {
          "base_uri": "https://localhost:8080/"
        },
        "id": "o4w7GyTUTvwA",
        "outputId": "4887a5d3-b75f-4866-fa2b-99cb132489c0"
      },
      "execution_count": null,
      "outputs": [
        {
          "output_type": "stream",
          "name": "stdout",
          "text": [
            "John\n",
            "Elbert\n",
            "Your name is John\n",
            "Your name is Elbert\n"
          ]
        }
      ]
    },
    {
      "cell_type": "code",
      "source": [
        "name_1 = input(\"Your name is: \")\n",
        "name_2 = input(\"Your name is: \")\n",
        "\n",
        "print (name_1)\n",
        "print (name_2)"
      ],
      "metadata": {
        "colab": {
          "base_uri": "https://localhost:8080/"
        },
        "id": "dGO-tXvwQr6m",
        "outputId": "bc4e1dc7-90db-47b5-ac7a-20ffd3d143d2"
      },
      "execution_count": null,
      "outputs": [
        {
          "output_type": "stream",
          "name": "stdout",
          "text": [
            "Your name is: John\n",
            "Your name is: Albert\n",
            "John\n",
            "Albert\n"
          ]
        }
      ]
    },
    {
      "cell_type": "code",
      "source": [
        "#task4\n",
        "\n",
        "name = input()\n",
        "print (\"Your name is\",name)"
      ],
      "metadata": {
        "colab": {
          "base_uri": "https://localhost:8080/"
        },
        "id": "wrCPmw-mgv6b",
        "outputId": "031caac6-88c3-4303-ed11-f9bc6ebef5b1"
      },
      "execution_count": null,
      "outputs": [
        {
          "output_type": "stream",
          "name": "stdout",
          "text": [
            "John\n",
            "Your name is John\n"
          ]
        }
      ]
    },
    {
      "cell_type": "code",
      "source": [
        "#Task5\n",
        "\n",
        "M = int(input())\n",
        "N = int(input())\n",
        "\n",
        "print(str(M)+\"^\"+str(N)+\":\"+str(M**N))"
      ],
      "metadata": {
        "colab": {
          "base_uri": "https://localhost:8080/"
        },
        "id": "_YBZTLkmVDdQ",
        "outputId": "068fad01-f300-407b-b811-c8705dc75d1e"
      },
      "execution_count": null,
      "outputs": [
        {
          "output_type": "stream",
          "name": "stdout",
          "text": [
            "2\n",
            "3\n",
            "2^3:8\n"
          ]
        }
      ]
    },
    {
      "cell_type": "code",
      "source": [
        "#task5\n",
        "\n",
        "M=int(input(\"Enter the value of M: \"))\n",
        "N=int(input(\"Enter the value of N: \"))\n",
        "\n",
        "print(\"{}^{}: {}\".format(M,N,M**N))"
      ],
      "metadata": {
        "colab": {
          "base_uri": "https://localhost:8080/"
        },
        "id": "MOozIyZ4kkUB",
        "outputId": "1f07fe00-e83b-438a-fb67-8e225c52c99a"
      },
      "execution_count": null,
      "outputs": [
        {
          "output_type": "stream",
          "name": "stdout",
          "text": [
            "Enter the value of M: 2\n",
            "Enter the value of N: 3\n",
            "2^3: 8\n"
          ]
        }
      ]
    },
    {
      "cell_type": "code",
      "source": [
        "#Task5\n",
        "\n",
        "M = int(input())\n",
        "N = int(input())\n",
        "\n",
        "print(str(M)+\"^\"+str(N)+\":\"+str(M**N))"
      ],
      "metadata": {
        "colab": {
          "base_uri": "https://localhost:8080/"
        },
        "id": "yARre03ogNoF",
        "outputId": "61784f40-1c64-4123-f0f7-3e6cbe03bd2c"
      },
      "execution_count": null,
      "outputs": [
        {
          "output_type": "stream",
          "name": "stdout",
          "text": [
            "10\n",
            "3\n",
            "10^3:1000\n"
          ]
        }
      ]
    },
    {
      "cell_type": "code",
      "source": [
        "#Task6\n",
        "\n",
        "weight=int(input(\"Sir, please enter your total weight: \"))\n",
        "extra_weight=weight%4\n",
        "print(\"The extra_weight is:\",extra_weight)\n",
        "maximum_load=weight-extra_weight\n",
        "print(\"The maximum load is:\",maximum_load)"
      ],
      "metadata": {
        "id": "X0nVqGJ4kLj6"
      },
      "execution_count": null,
      "outputs": []
    },
    {
      "cell_type": "code",
      "source": [
        "#task6\n",
        "\n",
        "total_weight = int(input(\"Enter the total weight: \"))\n",
        "maximum_weight = total_weight - (total_weight%4)\n",
        "print (maximum_weight)"
      ],
      "metadata": {
        "colab": {
          "base_uri": "https://localhost:8080/"
        },
        "id": "-vOqtilhmres",
        "outputId": "8202b5d1-a4a8-4fc7-c842-b33152b461c5"
      },
      "execution_count": null,
      "outputs": [
        {
          "output_type": "stream",
          "name": "stdout",
          "text": [
            "Enter the total weight: 23\n",
            "20\n"
          ]
        }
      ]
    },
    {
      "cell_type": "code",
      "source": [
        "#Task 7\n",
        "\n",
        "A = int(input(\"Enter the value of A: \"))\n",
        "B = int(input(\"Enter the value of B: \"))\n",
        "C = int(input(\"Enter the value of C: \"))\n",
        "D = float(input(\"Enter the value of D: \"))\n",
        "\n",
        "result = int(A**C + B*A - D/3 )\n",
        "print(result)"
      ],
      "metadata": {
        "colab": {
          "base_uri": "https://localhost:8080/"
        },
        "id": "HnXXmXHkn3mJ",
        "outputId": "32e3a967-4366-4273-f2ca-872e4cc41a87"
      },
      "execution_count": null,
      "outputs": [
        {
          "output_type": "stream",
          "name": "stdout",
          "text": [
            "Enter the value of A: 9\n",
            "Enter the value of B: 100\n",
            "Enter the value of C: 1\n",
            "Enter the value of D: 3.7\n",
            "907\n"
          ]
        }
      ]
    },
    {
      "cell_type": "code",
      "source": [
        "number = int (input(\"Number of chocolates: \"))\n",
        "chocolates_for_friends = int(number/3)\n",
        "remaining_chocolates = number%3\n",
        "print(\"Each friend will receive\",chocolates_for_friends,\"chocolates\")\n",
        "print(\"The number of remaining chocolates is\",remaining_chocolates)"
      ],
      "metadata": {
        "colab": {
          "base_uri": "https://localhost:8080/"
        },
        "id": "kY3mraxFptlI",
        "outputId": "1d5cd133-549d-4c28-91da-029afc968702"
      },
      "execution_count": null,
      "outputs": [
        {
          "output_type": "stream",
          "name": "stdout",
          "text": [
            "Number of chocolates: 90\n",
            "Each friend will receive 30 chocolates\n",
            "The number of remaining chocolates is 0\n"
          ]
        }
      ]
    },
    {
      "cell_type": "code",
      "source": [
        "9"
      ],
      "metadata": {
        "id": "VmLLkTtJtRHN"
      },
      "execution_count": null,
      "outputs": []
    }
  ]
}