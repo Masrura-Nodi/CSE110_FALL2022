{
  "nbformat": 4,
  "nbformat_minor": 0,
  "metadata": {
    "colab": {
      "provenance": []
    },
    "kernelspec": {
      "name": "python3",
      "display_name": "Python 3"
    },
    "language_info": {
      "name": "python"
    }
  },
  "cells": [
    {
      "cell_type": "code",
      "execution_count": null,
      "metadata": {
        "colab": {
          "base_uri": "https://localhost:8080/"
        },
        "id": "KHTlFx7t3d0s",
        "outputId": "7f6552b1-a141-4320-adfa-7c9880fb9663"
      },
      "outputs": [
        {
          "output_type": "stream",
          "name": "stdout",
          "text": [
            "Enter the first number: 4\n",
            "Enter the second number: 5\n",
            "Sum = 9\n",
            "Product = 20\n",
            "Difference = -1\n"
          ]
        }
      ],
      "source": [
        "#Task 1\n",
        "\n",
        "number1 = int(input(\"Enter the first number: \"))\n",
        "number2 = int(input(\"Enter the second number: \"))\n",
        "\n",
        "sum = number1 + number2\n",
        "product = number1 * number2\n",
        "difference = number1 - number2\n",
        "\n",
        "print(\"Sum =\",sum)\n",
        "print(\"Product =\",product)\n",
        "print(\"Difference =\",difference)"
      ]
    },
    {
      "cell_type": "code",
      "source": [
        "#Task 2\n",
        "\n",
        "import math\n",
        "\n",
        "radius = float(input(\"Radius of the circle: \"))\n",
        "\n",
        "area = math.pi * math.pow(radius,2)\n",
        "circumference = 2 * math.pi * radius\n",
        "\n",
        "print(\"Area is\",area)\n",
        "print(\"Circumference is\",circumference)"
      ],
      "metadata": {
        "colab": {
          "base_uri": "https://localhost:8080/"
        },
        "id": "jxpMNrd24w4d",
        "outputId": "2e094f68-0b92-47d3-8dfa-5f864880ad42"
      },
      "execution_count": null,
      "outputs": [
        {
          "output_type": "stream",
          "name": "stdout",
          "text": [
            "Radius of the circle: 3.5\n",
            "Area is 38.48451000647496\n",
            "Circumference is 21.991148575128552\n"
          ]
        }
      ]
    },
    {
      "cell_type": "code",
      "source": [
        "#Task 3\n",
        "\n",
        "number1 = int(input(\"First number: \"))\n",
        "number2 = int(input(\"Second number: \"))\n",
        "\n",
        "if number1 == number2:\n",
        "    print(\"The numbers are equal\")\n",
        "elif number1 > number2:\n",
        "    print(\"First is greater\")\n",
        "else:\n",
        "    print(\"Second is greater\")"
      ],
      "metadata": {
        "colab": {
          "base_uri": "https://localhost:8080/"
        },
        "id": "66mml70O7-Qw",
        "outputId": "4d769ef2-c207-4cbe-ed19-8b5967493ea8"
      },
      "execution_count": null,
      "outputs": [
        {
          "output_type": "stream",
          "name": "stdout",
          "text": [
            "First number: 7\n",
            "Second number: 3\n",
            "First is greater\n"
          ]
        }
      ]
    },
    {
      "cell_type": "code",
      "source": [
        "#Task 4\n",
        "\n",
        "number1 = int(input(\"First number: \"))\n",
        "number2 = int(input(\"Second number: \"))\n",
        "\n",
        "if number1 >= number2:\n",
        "    print(number1 - number2)\n",
        "else:\n",
        "    print(number2 - number1)"
      ],
      "metadata": {
        "colab": {
          "base_uri": "https://localhost:8080/"
        },
        "id": "e4srR3RH9qJh",
        "outputId": "3cc09a5f-760e-4d64-f5a5-ad96e84d643c"
      },
      "execution_count": null,
      "outputs": [
        {
          "output_type": "stream",
          "name": "stdout",
          "text": [
            "First number: -40\n",
            "Second number: -4\n",
            "36\n"
          ]
        }
      ]
    },
    {
      "cell_type": "code",
      "source": [
        "#Task 5\n",
        "\n",
        "number = int(input(\"Enter the number: \"))\n",
        "if number % 2 == 0:\n",
        "    print(\"The number is even\")\n",
        "else:\n",
        "    print(\"The number is odd\")"
      ],
      "metadata": {
        "colab": {
          "base_uri": "https://localhost:8080/"
        },
        "id": "kV-oTHaC_O1q",
        "outputId": "326f7360-066c-4241-d157-8cadccc8ed91"
      },
      "execution_count": null,
      "outputs": [
        {
          "output_type": "stream",
          "name": "stdout",
          "text": [
            "Enter the number: -44\n",
            "The number is even\n"
          ]
        }
      ]
    },
    {
      "cell_type": "code",
      "source": [
        "#Task 6\n",
        "\n",
        "number = int(input(\"Enter the number: \"))\n",
        "\n",
        "if number % 2 == 0 or number % 5 == 0:\n",
        "    print(number)\n",
        "else:\n",
        "    print(\"Not a multiple of 2 OR 5\")"
      ],
      "metadata": {
        "colab": {
          "base_uri": "https://localhost:8080/"
        },
        "id": "i63jlEUpB_MX",
        "outputId": "4b434af0-6fc6-4e92-974a-546ea6dc812f"
      },
      "execution_count": null,
      "outputs": [
        {
          "output_type": "stream",
          "name": "stdout",
          "text": [
            "Enter the number: 3\n",
            "Not a multiple of 2 OR 5\n"
          ]
        }
      ]
    },
    {
      "cell_type": "code",
      "source": [
        "#Task 7\n",
        "\n",
        "number = int(input(\"Enter the number: \"))\n",
        "\n",
        "if number % 2 == 0 and number % 5 == 0:\n",
        "    print(\"Multiple of 2 and 5 both\")\n",
        "elif number % 2 == 0 or number % 5 == 0:\n",
        "    print(number)\n",
        "else:\n",
        "    print(\"Not a multiple we want\")"
      ],
      "metadata": {
        "colab": {
          "base_uri": "https://localhost:8080/"
        },
        "id": "zRJ88tirAMse",
        "outputId": "45b047e4-58d8-4fcc-cbf8-324837b11c24"
      },
      "execution_count": null,
      "outputs": [
        {
          "output_type": "stream",
          "name": "stdout",
          "text": [
            "Enter the number: 17\n",
            "Not a multiple we want\n"
          ]
        }
      ]
    },
    {
      "cell_type": "code",
      "source": [
        "#Task 8\n",
        "\n",
        "number = int(input(\"Enter the number: \"))\n",
        "\n",
        "if number % 2 == 0 and number % 5 == 0:\n",
        "    print(number)\n",
        "else:\n",
        "    print(\"Not multiple of 2 and 5\")"
      ],
      "metadata": {
        "colab": {
          "base_uri": "https://localhost:8080/"
        },
        "id": "xkv29ufRC_0C",
        "outputId": "2005d2a3-62f1-4fee-85aa-f8dd39d77a67"
      },
      "execution_count": null,
      "outputs": [
        {
          "output_type": "stream",
          "name": "stdout",
          "text": [
            "Enter the number: 15\n",
            "Not multiple of 2 and 5\n"
          ]
        }
      ]
    },
    {
      "cell_type": "code",
      "source": [
        "#Task 9\n",
        "\n",
        "seconds = int(input(\"Time: \"))\n",
        "\n",
        "Hours = seconds // 3600\n",
        "remaining_seconds = seconds % 3600\n",
        "Minutes = remaining_seconds // 60\n",
        "Seconds = remaining_seconds % 60\n",
        "\n",
        "print(\"Hour:\",Hours,\"Minutes:\",Minutes,\"Seconds:\",Seconds)"
      ],
      "metadata": {
        "colab": {
          "base_uri": "https://localhost:8080/"
        },
        "id": "VS9AoqJoDdxh",
        "outputId": "30adca6e-da17-4002-b5d8-267194db710d"
      },
      "execution_count": null,
      "outputs": [
        {
          "output_type": "stream",
          "name": "stdout",
          "text": [
            "Time: 10000\n",
            "Hour: 2 Minutes: 46 Seconds: 40\n"
          ]
        }
      ]
    },
    {
      "cell_type": "code",
      "source": [
        "#Task 10\n",
        "\n",
        "hour = int(input(\"Working hour: \"))\n",
        "salary = 0\n",
        "\n",
        "if hour > 0:\n",
        "    if hour <= 168:\n",
        "        if hour <= 40 :\n",
        "            salary = hour * 200\n",
        "            print(salary)\n",
        "        else:\n",
        "            salary = 8000+(hour-40)*300\n",
        "            print(salary)\n",
        "    else:\n",
        "        print(\"Impossible to work more than 168 hours weekly\")\n",
        "else:\n",
        "    print(\"Hour cannot be negative\")"
      ],
      "metadata": {
        "id": "tN4ssoKAFJ7H",
        "colab": {
          "base_uri": "https://localhost:8080/"
        },
        "outputId": "4dc9d1bc-60f2-4b06-89aa-8eb81352aabd"
      },
      "execution_count": null,
      "outputs": [
        {
          "output_type": "stream",
          "name": "stdout",
          "text": [
            "Working hour: 170\n",
            "Impossible to work more than 168 hours weekly\n"
          ]
        }
      ]
    },
    {
      "cell_type": "code",
      "source": [
        "#Task 11\n",
        "\n",
        "S = int(input(\"Enter the value of s: \"))\n",
        "\n",
        "if S < 100:\n",
        "    L = 3000 - 125 * S ** 2\n",
        "    print(L)\n",
        "else:\n",
        "    L = 12000 / (4 + (S ** 2 /14900))\n",
        "    print(L)"
      ],
      "metadata": {
        "colab": {
          "base_uri": "https://localhost:8080/"
        },
        "id": "ynoDQ_Rpg8qs",
        "outputId": "bd5f617b-2f7a-401e-ad37-d1ec981754e2"
      },
      "execution_count": null,
      "outputs": [
        {
          "output_type": "stream",
          "name": "stdout",
          "text": [
            "Enter the value of s: 3\n",
            "1875\n"
          ]
        }
      ]
    },
    {
      "cell_type": "code",
      "source": [
        "#Task 12\n",
        "\n",
        "hour = int(input(\"Hour: \"))\n",
        "\n",
        "if 0 <= hour <= 24 :\n",
        "    if 4 <= hour <= 6:\n",
        "       print(\"Breakfast\")\n",
        "    elif 12 <= hour <= 13:\n",
        "       print(\"Lunch\")\n",
        "    elif 16 <= hour <= 17:\n",
        "       print(\"Snacks\")\n",
        "    elif 19 <= hour <= 20:\n",
        "       print(\"Dinner\")\n",
        "    else:\n",
        "       print(\"Patience is a virtue\")\n",
        "else:\n",
        "    print(\"Wrong time\")"
      ],
      "metadata": {
        "colab": {
          "base_uri": "https://localhost:8080/"
        },
        "id": "R4QjvLaNYvUV",
        "outputId": "3b70b5d1-69ed-443a-b788-45358842f77f"
      },
      "execution_count": null,
      "outputs": [
        {
          "output_type": "stream",
          "name": "stdout",
          "text": [
            "Hour: 1\n",
            "Patience is a virtue\n"
          ]
        }
      ]
    },
    {
      "cell_type": "code",
      "source": [
        "#Task 13\n",
        "\n",
        "marks = int(input(\"Student's marks: \"))\n",
        "\n",
        "if 0 <= marks <= 100:\n",
        "    if 90<= marks:\n",
        "        print(\"A\")\n",
        "    elif 80<= marks<=89:\n",
        "        print(\"B\")\n",
        "    elif 70<= marks<=79:\n",
        "        print(\"C\")\n",
        "    elif 60<= marks<=69:\n",
        "        print(\"D\")\n",
        "    elif 50<= marks<=59:\n",
        "        print(\"E\")\n",
        "    else:\n",
        "        print(\"F\")\n",
        "else:\n",
        "    print(\"Invalid\")"
      ],
      "metadata": {
        "colab": {
          "base_uri": "https://localhost:8080/"
        },
        "id": "mAJxYI57c5gA",
        "outputId": "c9cd7ca6-591c-41b9-8977-bfa6efdec15b"
      },
      "execution_count": null,
      "outputs": [
        {
          "output_type": "stream",
          "name": "stdout",
          "text": [
            "Student's marks: 60\n",
            "D\n"
          ]
        }
      ]
    },
    {
      "cell_type": "code",
      "execution_count": null,
      "metadata": {
        "colab": {
          "base_uri": "https://localhost:8080/"
        },
        "outputId": "33d9f267-04f7-4611-d526-c4c4ce746f16",
        "id": "YXJ10BO5BKAt"
      },
      "outputs": [
        {
          "output_type": "stream",
          "name": "stdout",
          "text": [
            "Enter the distance: 25400\n",
            "Enter the time: 3600\n",
            "25.4 km/h\n",
            "Too slow. Needs more changes.\n"
          ]
        }
      ],
      "source": [
        "#Task 14\n",
        "\n",
        "distance = int(input(\"Enter the distance: \"))\n",
        "time = int(input(\"Enter the time: \"))\n",
        "\n",
        "distance_in_km = distance / 1000\n",
        "hour = time / 3600\n",
        "\n",
        "velocity = distance_in_km / hour\n",
        "print(velocity,\"km/h\")\n",
        "\n",
        "if velocity<60:\n",
        "    print(\"Too slow. Needs more changes.\")\n",
        "elif 60<=velocity<=90:\n",
        "    print(\"Velocity is okay. The car is ready!\")\n",
        "else:\n",
        "    print(\"Too fast. Only a few changes should suffice.\")"
      ]
    },
    {
      "cell_type": "code",
      "source": [
        "#Task 15\n",
        "\n",
        "CGPA = float(input(\"CGPA: \"))\n",
        "Credits = int(input(\"No of credits: \"))\n",
        "\n",
        "if Credits>=30 and CGPA>=3.80:\n",
        "    if 3.80<=CGPA<=3.89:\n",
        "        print(\"The student is eligible for a waiver of 25 percent\")\n",
        "    elif 3.90<=CGPA<=3.94:\n",
        "        print(\"The student is eligible for a waiver of 50 percent\")\n",
        "    elif 3.95<=CGPA<=3.99:\n",
        "        print(\"The student is eligible for a waiver of 75 percent\")\n",
        "    else:\n",
        "        print(\"The student is eligible for a waiver of 100 percent\")\n",
        "else:\n",
        "    print(\"The student is not eligible for a waiver\")"
      ],
      "metadata": {
        "colab": {
          "base_uri": "https://localhost:8080/"
        },
        "id": "x86nIzhtfiho",
        "outputId": "43544bb3-750d-4190-9af7-442dde987688"
      },
      "execution_count": null,
      "outputs": [
        {
          "output_type": "stream",
          "name": "stdout",
          "text": [
            "CGPA: 3.93\n",
            "No of credits: 78\n",
            "The student is eligible for a waiver of 50 percent\n"
          ]
        }
      ]
    },
    {
      "cell_type": "code",
      "source": [
        "#Task 16\n",
        "p = 5\n",
        "q = 6\n",
        "r = 9\n",
        "sum = 0\n",
        "if (p < 12):\n",
        "    print(r + 2)\n",
        "else:\n",
        "    print(r + p)\n",
        "if (q > 20):\n",
        "    print(r + 19)\n",
        "elif (q <= 6):\n",
        "    print(q + 3)\n",
        "else:\n",
        "    print(p + q + r)\n",
        "if (r > 15):\n",
        "    print(r)\n",
        "elif (r == 0):\n",
        "    print(p + q)\n",
        "else:\n",
        "    print(p)\n",
        "if (sum != 0):\n",
        "    print(3)\n",
        "else:\n",
        "    print(sum + 32)\n",
        "if (p>0 and r<10):\n",
        "    print(p+r)\n",
        "else:\n",
        "    print(p-r)\n",
        "\n",
        "print(p)\n",
        "print(q)\n",
        "print(r)\n",
        "print(sum)"
      ],
      "metadata": {
        "colab": {
          "base_uri": "https://localhost:8080/"
        },
        "id": "PMrzyTy_skcZ",
        "outputId": "e7a8e556-82cc-4b04-af72-f75ce4f0899a"
      },
      "execution_count": null,
      "outputs": [
        {
          "output_type": "stream",
          "name": "stdout",
          "text": [
            "11\n",
            "9\n",
            "5\n",
            "32\n",
            "14\n",
            "5\n",
            "6\n",
            "9\n",
            "0\n"
          ]
        }
      ]
    },
    {
      "cell_type": "code",
      "source": [
        "#Task 17\n",
        "\n",
        "var1 = var2 = var3 = var4 = var5 = var6 = False\n",
        "result1 = False\n",
        "result2 = False\n",
        "result3 = False\n",
        "result4 = False\n",
        "result5 = False\n",
        "result6 = False\n",
        "result7 = False\n",
        "result8 = False\n",
        "result9 = False\n",
        "result10 = False\n",
        "var1 = 4 > 3 - 1\n",
        "var2 = var1 and False\n",
        "var3 = True\n",
        "var4 = False\n",
        "var5 = True\n",
        "var6 = var3 and False\n",
        "result1 = (var1 or var2) and (8 * 10 > 45)\n",
        "result2 = (var1 or var2) and (result1 and False)\n",
        "result3 = (var1 and result1) or result2\n",
        "result4 = (var1 or var2) or ((var3 and var1) and False)\n",
        "result5 = (var1 and var2) and (result3 or var1)\n",
        "result6 = ((var3 or var2) and not(result5)) or True\n",
        "result7 = (var4 and result1) and ((result1 and False) or True)\n",
        "result8 = ((var1 and result3) and (var5 or var6)) and True\n",
        "result9 = ((result2 and var2) or (result7 and var1)) and False\n",
        "result10 = not(var1 and True)\n",
        "\n",
        "print(result1)\n",
        "print(result2)\n",
        "print(result3)\n",
        "print(result4)\n",
        "print(result5)\n",
        "print(result6)\n",
        "print(result7)\n",
        "print(result8)\n",
        "print(result9)\n",
        "print(result10)"
      ],
      "metadata": {
        "colab": {
          "base_uri": "https://localhost:8080/"
        },
        "id": "xs4nnuj7N30U",
        "outputId": "0c8c2ab4-1097-43c8-8ae4-5fc6471d72ae"
      },
      "execution_count": null,
      "outputs": [
        {
          "output_type": "stream",
          "name": "stdout",
          "text": [
            "True\n",
            "False\n",
            "True\n",
            "True\n",
            "False\n",
            "True\n",
            "False\n",
            "True\n",
            "False\n",
            "False\n"
          ]
        }
      ]
    },
    {
      "cell_type": "code",
      "source": [
        "#Task 18\n",
        "\n",
        "var1 = False\n",
        "var2 = False\n",
        "var3 = False\n",
        "var4 = False\n",
        "var5 = False\n",
        "var6 = False\n",
        "result1 = False\n",
        "result2 = False\n",
        "result3 = False\n",
        "result4 = False\n",
        "result5 = False\n",
        "result6 = False\n",
        "result7 = False\n",
        "result8 = False\n",
        "result9 = False\n",
        "result10 = False\n",
        "var1 = ((not True) or True) and False\n",
        "var2 = var1 and False\n",
        "var3 = True and not False\n",
        "var4 = False\n",
        "var5 = True\n",
        "var6 = var3 and False\n",
        "result1 = (var1 and var2) and (40 % 3) > 45 or (var5 and var6)\n",
        "result2 = (var1 or var2) or (result1 and False)\n",
        "result3 = (var1 and result1) or result2 or var5\n",
        "result4 = (var1 or var2) or ((var3 and var1) and False)\n",
        "result5 = (var1 and var2) and (result3 or var1)\n",
        "result6 = ((var3 or (not var2)) and (result5)) or True\n",
        "result7 = (var4 and result1) and ((result1 and False) or True)\n",
        "result8 = ((var1 and result3) and ((not var5) or var6)) and True\n",
        "result9 = ((result2 and var2) or ((not result7) and var1)) and not False\n",
        "result10 = not(var1 and True)\n",
        "\n",
        "print(var1)\n",
        "print(var2)\n",
        "print(var3)\n",
        "print(var4)\n",
        "print(var5)\n",
        "print(var6)\n",
        "\n",
        "print(result1)\n",
        "print(result2)\n",
        "print(result3)\n",
        "print(result4)\n",
        "print(result5)\n",
        "print(result6)\n",
        "print(result7)\n",
        "print(result8)\n",
        "print(result9)\n",
        "print(result10)"
      ],
      "metadata": {
        "colab": {
          "base_uri": "https://localhost:8080/"
        },
        "id": "jFIh9dRNRoGf",
        "outputId": "515372df-9234-4a2d-d0f1-3ed43305d8f3"
      },
      "execution_count": null,
      "outputs": [
        {
          "output_type": "stream",
          "name": "stdout",
          "text": [
            "False\n",
            "False\n",
            "True\n",
            "False\n",
            "True\n",
            "False\n",
            "False\n",
            "False\n",
            "True\n",
            "False\n",
            "False\n",
            "True\n",
            "False\n",
            "False\n",
            "False\n",
            "True\n"
          ]
        }
      ]
    },
    {
      "cell_type": "code",
      "source": [
        "#Task 19\n",
        "\n",
        "var1 = var2 = var3 = var4 = var5 = var6 = False\n",
        "result1 = result2 = result3 = result4 = result5 = result6 = False\n",
        "result7 = result8 = result9 = result10 = False\n",
        "var1 = (not False or False) and True\n",
        "var2 = var1 and True\n",
        "var3 = False and not True\n",
        "var4 = True\n",
        "var5 = False\n",
        "var6 = var3 and True\n",
        "result1 = (var1 and var2) and ( 40 % 3 > 45) or (var5 and var6)\n",
        "result2 = (var1 or var2) or (result1 and False)\n",
        "result3 = (var1 and result1) or result2 or var5\n",
        "result4 = (var1 or var2) or ((var3 and var1) and False)\n",
        "result5 = (var1 and var2) and (result3 or var1)\n",
        "result6 = ((var3 or not var2) and (result5)) or True\n",
        "result7 = (var4 and result1) and ((result1 and False) or True)\n",
        "result8 = ((var1 and result3) and (not var5 or var6)) and True\n",
        "result9 = ((result2 and var2) or (not result7 and var1)) and not False\n",
        "result10 = not (var1 and True)\n",
        "\n",
        "print(var1)\n",
        "print(var2)\n",
        "print(var3)\n",
        "print(var4)\n",
        "print(var5)\n",
        "print(var6)\n",
        "\n",
        "print(result1)\n",
        "print(result2)\n",
        "print(result3)\n",
        "print(result4)\n",
        "print(result5)\n",
        "print(result6)\n",
        "print(result7)\n",
        "print(result8)\n",
        "print(result9)\n",
        "print(result10)"
      ],
      "metadata": {
        "colab": {
          "base_uri": "https://localhost:8080/"
        },
        "id": "YDHVC67_Z-JD",
        "outputId": "4de3655e-8a31-42b6-efb1-3798987acf2d"
      },
      "execution_count": null,
      "outputs": [
        {
          "output_type": "stream",
          "name": "stdout",
          "text": [
            "True\n",
            "True\n",
            "False\n",
            "True\n",
            "False\n",
            "False\n",
            "False\n",
            "True\n",
            "True\n",
            "True\n",
            "True\n",
            "True\n",
            "False\n",
            "True\n",
            "True\n",
            "False\n"
          ]
        }
      ]
    },
    {
      "cell_type": "code",
      "source": [
        "#Task 20\n",
        "\n",
        "x=int(input('Enter any integer\\n'))\n",
        "\n",
        "if x%2!=0 and x%5!=0:\n",
        "    print(x)\n",
        "else:\n",
        "    print('No')"
      ],
      "metadata": {
        "colab": {
          "base_uri": "https://localhost:8080/"
        },
        "id": "rrnds1MM-ifg",
        "outputId": "f72252ef-15f4-4c97-87d4-a1ab37e060f5"
      },
      "execution_count": null,
      "outputs": [
        {
          "output_type": "stream",
          "name": "stdout",
          "text": [
            "Enter any integer\n",
            "12\n",
            "No\n"
          ]
        }
      ]
    },
    {
      "cell_type": "code",
      "source": [
        "#Task 21\n",
        "\n",
        "x=int(input())\n",
        "\n",
        "if x%2!=0 or x%5!=0:\n",
        "  print(x)\n",
        "else:\n",
        "  print('No')"
      ],
      "metadata": {
        "colab": {
          "base_uri": "https://localhost:8080/"
        },
        "id": "tKJ9Vm0l-RbM",
        "outputId": "e5b7c911-afae-48d8-de6c-8a4871de0667"
      },
      "execution_count": null,
      "outputs": [
        {
          "output_type": "stream",
          "name": "stdout",
          "text": [
            "5\n",
            "5\n"
          ]
        }
      ]
    },
    {
      "cell_type": "code",
      "source": [
        "#Task 22\n",
        "\n",
        "canva=int(input('canvas:'))\n",
        "tube=int(input('Paint Tube:'))\n",
        "\n",
        "cost=(canva*120)+(tube*75)\n",
        "print('Previous Total:',cost)\n",
        "if cost>=300:\n",
        "    if cost<=499:\n",
        "        dis_cost= cost-10\n",
        "    elif cost>=500 and cost<=749:\n",
        "        dis_cost= cost-20\n",
        "    elif cost>=750 and cost<=999:\n",
        "        dis_cost= cost-50\n",
        "    elif cost>=1000:\n",
        "        dis_cost= cost-150\n",
        "\n",
        "    print('New total after discount:', dis_cost)\n",
        "else:\n",
        "        print('New total after discount:',cost)"
      ],
      "metadata": {
        "colab": {
          "base_uri": "https://localhost:8080/"
        },
        "id": "yq2HsRja9kuq",
        "outputId": "9a3d879c-a153-4148-9208-917c1463d427"
      },
      "execution_count": null,
      "outputs": [
        {
          "output_type": "stream",
          "name": "stdout",
          "text": [
            "canvas:5\n",
            "Paint Tube:8\n",
            "Previous Total: 1200\n",
            "New total after discount: 1050\n"
          ]
        }
      ]
    },
    {
      "cell_type": "code",
      "source": [
        "#Task 23\n",
        "\n",
        "temp_far=float(input(\"Give me the temperature in degree fahrenheit\\n\"))\n",
        "\n",
        "temp_celsius=((temp_far) - 32) * 0.56\n",
        "print(round(temp_celsius, 2), \"degrees C\")\n",
        "\n",
        "if temp_celsius<20:\n",
        "    print('Winter')\n",
        "elif temp_celsius>=20 and temp_celsius<=25:\n",
        "    print('Autumn')\n",
        "elif temp_celsius>25 and temp_celsius<30:\n",
        "    print('Spring')\n",
        "elif temp_celsius>=30 :\n",
        "    print('Summer')"
      ],
      "metadata": {
        "colab": {
          "base_uri": "https://localhost:8080/"
        },
        "id": "F0j9l7aX9g-P",
        "outputId": "acfe05f2-2363-40d7-8b1d-78e0edfe3bfe"
      },
      "execution_count": null,
      "outputs": [
        {
          "output_type": "stream",
          "name": "stdout",
          "text": [
            "Give me the temperature in degree fahrenheit\n",
            "82\n",
            "28.0 degrees C\n",
            "Spring\n"
          ]
        }
      ]
    },
    {
      "cell_type": "code",
      "source": [],
      "metadata": {
        "id": "xkkkCQlx-AEP"
      },
      "execution_count": null,
      "outputs": []
    }
  ]
}