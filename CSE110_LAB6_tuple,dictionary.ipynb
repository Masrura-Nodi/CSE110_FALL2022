{
  "nbformat": 4,
  "nbformat_minor": 0,
  "metadata": {
    "colab": {
      "provenance": []
    },
    "kernelspec": {
      "name": "python3",
      "display_name": "Python 3"
    },
    "language_info": {
      "name": "python"
    }
  },
  "cells": [
    {
      "cell_type": "code",
      "execution_count": null,
      "metadata": {
        "colab": {
          "base_uri": "https://localhost:8080/"
        },
        "id": "W4q-biHsb_6e",
        "outputId": "faaddc1b-73e0-4391-f984-c2d1ad40ef7d"
      },
      "outputs": [
        {
          "output_type": "stream",
          "name": "stdout",
          "text": [
            "400\n"
          ]
        }
      ],
      "source": [
        "#Task1\n",
        "#Write one line of Python code to access and print the value 400.\n",
        "\n",
        "a_tuple = (\"The Institute\", (\"Best Mystery & Thriller\", \"The Silent Patient\", 68821), 75717,\n",
        "[1, 2, 3, 400, 5, 6, 7], (\"Best Fiction\", \"The Testaments\", 98291))\n",
        "print(a_tuple[3][3])"
      ]
    },
    {
      "cell_type": "code",
      "source": [
        "#Task2\n",
        "#Assume, you have been given a tuple.\n",
        "# Write a Python program that creates a new tuple excluding the first\n",
        "#and last two elements of the given tuple and prints the new tuple.\n",
        "\n",
        "tup = (10, 20, 24, 25, 26, 35, 70)\n",
        "print(tup[2:-2])"
      ],
      "metadata": {
        "colab": {
          "base_uri": "https://localhost:8080/"
        },
        "id": "QuVPv5P8c4W7",
        "outputId": "da7b863b-1906-4607-d71d-ee38bf5e77b8"
      },
      "execution_count": null,
      "outputs": [
        {
          "output_type": "stream",
          "name": "stdout",
          "text": [
            "(24, 25, 26)\n"
          ]
        }
      ]
    },
    {
      "cell_type": "code",
      "source": [
        "#Task3\n",
        "#Write a Python program that prints the size of the tuple and all its elements as shown below.\n",
        "\n",
        "book_info = (\n",
        "(\"Best Mystery & Thriller\",\"The Silent Patient\",68,821),\n",
        "(\"Best Horror\",\"The Institute\",75,717),\n",
        "(\"Best History & Biography\",\"The five\",31,783 ),\n",
        "(\"Best Fiction\",\"The Testaments\",98,291)\n",
        ")\n",
        "print(\"Size of the tuple is: \",len(book_info))\n",
        "for elements in book_info:\n",
        "    print(elements)"
      ],
      "metadata": {
        "colab": {
          "base_uri": "https://localhost:8080/"
        },
        "id": "NW3gAGV5djQn",
        "outputId": "838c6e58-9231-4109-cd5c-3e1326bda532"
      },
      "execution_count": null,
      "outputs": [
        {
          "output_type": "stream",
          "name": "stdout",
          "text": [
            "Size of the tuple is:  4\n",
            "('Best Mystery & Thriller', 'The Silent Patient', 68, 821)\n",
            "('Best Horror', 'The Institute', 75, 717)\n",
            "('Best History & Biography', 'The five', 31, 783)\n",
            "('Best Fiction', 'The Testaments', 98, 291)\n"
          ]
        }
      ]
    },
    {
      "cell_type": "code",
      "source": [
        "#Task4\n",
        "#Write a Python program that prints the award category,\n",
        "# the book name, and its total votes earned as shown below.\n",
        "\n",
        "book_info = (\n",
        "(\"Best Mystery & Thriller\",\"The Silent Patient\",68821),\n",
        "(\"Best Horror\",\"The Institute\",75717),\n",
        "(\"Best History & Biography\",\"The five\",31783 ),\n",
        "(\"Best Fiction\",\"The Testaments\",98291)\n",
        ")\n",
        "for award_category,book_name,total_votes in book_info:\n",
        "    print(\"{} won the '{}' category with {} votes\".\n",
        "          format(book_name, award_category, total_votes))"
      ],
      "metadata": {
        "colab": {
          "base_uri": "https://localhost:8080/"
        },
        "id": "dKXN-eFxfqhD",
        "outputId": "142bad87-26c0-4322-9800-3e687f3b7d5b"
      },
      "execution_count": null,
      "outputs": [
        {
          "output_type": "stream",
          "name": "stdout",
          "text": [
            "The Silent Patient won the 'Best Mystery & Thriller' category with 68821 votes\n",
            "The Institute won the 'Best Horror' category with 75717 votes\n",
            "The five won the 'Best History & Biography' category with 31783 votes\n",
            "The Testaments won the 'Best Fiction' category with 98291 votes\n"
          ]
        }
      ]
    },
    {
      "cell_type": "code",
      "source": [
        "#Task5\n",
        "#Write a python program that takes an input from the user\n",
        "#and finds the number of times that the input is present in a given tuple.\n",
        "Given_tuple = (10, 8, 5, 2, 10, 15, 10, 8, 5, 8, 8, 2)\n",
        "number = int(input(\"Enter the numbers: \"))\n",
        "print(\"{} appears {} times in the tuple\".format(number,Given_tuple.count(number)))"
      ],
      "metadata": {
        "colab": {
          "base_uri": "https://localhost:8080/"
        },
        "id": "_v7VLoq-hnds",
        "outputId": "0ed962b3-f7d0-4b8c-8f68-5339616ad9db"
      },
      "execution_count": null,
      "outputs": [
        {
          "output_type": "stream",
          "name": "stdout",
          "text": [
            "Enter the numbers: 10\n",
            "10 appears 3 times in the tuple\n"
          ]
        }
      ]
    },
    {
      "cell_type": "code",
      "source": [
        "#Task6\n",
        "#Write a Python program to reverse a given tuple.\n",
        "\n",
        "Given_tuple = (10, 20, 30, 40, 50, 60)\n",
        "a_list = list(Given_tuple)\n",
        "a_list.reverse()\n",
        "tup = tuple(a_list)\n",
        "print(tup)"
      ],
      "metadata": {
        "colab": {
          "base_uri": "https://localhost:8080/"
        },
        "id": "hjHmM_5fjIbL",
        "outputId": "a05e775a-b0fb-445c-a0bb-996fb14091a8"
      },
      "execution_count": null,
      "outputs": [
        {
          "output_type": "stream",
          "name": "stdout",
          "text": [
            "(60, 50, 40, 30, 20, 10)\n"
          ]
        }
      ]
    },
    {
      "cell_type": "code",
      "source": [
        "#Task7\n",
        "\n",
        "dict1 = {'Harry':15, 'Draco':8, 'Nevil':19}\n",
        "dict2 = {'Ginie':18, 'Luna': 14}\n",
        "marks = {**dict1, **dict2}\n",
        "print(marks)"
      ],
      "metadata": {
        "colab": {
          "base_uri": "https://localhost:8080/"
        },
        "id": "fgSfsgzNyDGn",
        "outputId": "7f8ef2f7-4252-4e24-b2d1-f46e207a2b0a"
      },
      "execution_count": null,
      "outputs": [
        {
          "output_type": "stream",
          "name": "stdout",
          "text": [
            "{'Harry': 15, 'Draco': 8, 'Nevil': 19, 'Ginie': 18, 'Luna': 14}\n"
          ]
        }
      ]
    },
    {
      "cell_type": "code",
      "source": [
        "#Task8\n",
        "\n",
        "user = input(\"Enter: \")\n",
        "list1 = user.split(', ')\n",
        "dict1 = {}\n",
        "list2 = []\n",
        "sum = 0\n",
        "count = 0\n",
        "for m in list1:\n",
        "  list2 = m.split(\":\")\n",
        "  dict1[list2[0]] = int(list2[1])\n",
        "for n in dict1.values():\n",
        "  sum += n\n",
        "  count += 1\n",
        "print(\"Average is {}.\".format(int(sum/count)))"
      ],
      "metadata": {
        "id": "D_1tPbHmOhsJ",
        "colab": {
          "base_uri": "https://localhost:8080/"
        },
        "outputId": "5bf20dd5-ea46-489c-9dad-4b011025ce38"
      },
      "execution_count": null,
      "outputs": [
        {
          "output_type": "stream",
          "name": "stdout",
          "text": [
            "Enter: Jon:100, Dan:200, Rob:30, Ned:110\n",
            "Average is 110.\n"
          ]
        }
      ]
    },
    {
      "cell_type": "code",
      "source": [
        "#Task9\n",
        "\n",
        "exam_marks = {'Cierra Vega': 175, 'Alden Cantrell': 200,\n",
        "              'Kierra Gentry': 165, 'Pierre Cox': 190}\n",
        "user = int(input(\"Enter: \"))\n",
        "new_dict ={}\n",
        "for keys,values in exam_marks.items():\n",
        "    if values > user:\n",
        "        new_dict[keys] = values\n",
        "print(new_dict)"
      ],
      "metadata": {
        "id": "jxCpSCIaypFe",
        "colab": {
          "base_uri": "https://localhost:8080/"
        },
        "outputId": "b0ef415d-1e1a-4f1a-bdfd-6162c7eaa530"
      },
      "execution_count": null,
      "outputs": [
        {
          "output_type": "stream",
          "name": "stdout",
          "text": [
            "Enter: 170\n",
            "{'Cierra Vega': 175, 'Alden Cantrell': 200, 'Pierre Cox': 190}\n"
          ]
        }
      ]
    },
    {
      "cell_type": "code",
      "source": [
        "#Task10\n",
        "\n",
        "given = {'sci fi': 5, 'mystery': 3, 'horror': 14, 'young_adult': 2,\n",
        "         'adventure':9}\n",
        "max_value = 0\n",
        "max_key = ''\n",
        "for key,value in given.items():\n",
        "    if value > max_value :\n",
        "        max_value = value\n",
        "        max_key = key\n",
        "print(\"The highest selling book genre is '{}' and the number of books sold are {}.\".format(max_key,max_value))"
      ],
      "metadata": {
        "colab": {
          "base_uri": "https://localhost:8080/"
        },
        "id": "9XMmfRBvTjPg",
        "outputId": "4550e61a-1f5f-4280-dbcb-ec14c650ed28"
      },
      "execution_count": null,
      "outputs": [
        {
          "output_type": "stream",
          "name": "stdout",
          "text": [
            "The highest selling book genre is 'horror' and the number of books sold are 14.\n"
          ]
        }
      ]
    },
    {
      "cell_type": "code",
      "source": [
        "# Task 11\n",
        "\n",
        "string = input(\"Enter the string: \")[1:-1]\n",
        "string = string.lower()\n",
        "dict1 = {}\n",
        "count = 0\n",
        "for m in string:\n",
        "    count = 0\n",
        "    for n in string:\n",
        "        if n == m:\n",
        "            count += 1\n",
        "            dict1[n] = count\n",
        "print(string)\n",
        "print(dict1)"
      ],
      "metadata": {
        "colab": {
          "base_uri": "https://localhost:8080/"
        },
        "id": "95uHsfvpsbl6",
        "outputId": "5f9c6176-cc13-441b-b5d9-6600bfda09cd"
      },
      "execution_count": null,
      "outputs": [
        {
          "output_type": "stream",
          "name": "stdout",
          "text": [
            "Enter the string: \"Python programming is fun\"\n",
            "python programming is fun\n",
            "{'p': 2, 'y': 1, 't': 1, 'h': 1, 'o': 2, 'n': 3, ' ': 3, 'r': 2, 'g': 2, 'a': 1, 'm': 2, 'i': 2, 's': 1, 'f': 1, 'u': 1}\n"
          ]
        }
      ]
    },
    {
      "cell_type": "code",
      "source": [
        "#Task12\n",
        "\n",
        "dict_1 = {'A': [1, 2, 3], 'b': ['1', '2'], \"c\": [4, 5, 6, 7]}\n",
        "total = 0\n",
        "for key,value in dict_1.items():\n",
        "    for count in dict_1[key]:\n",
        "        total += 1\n",
        "print(total)"
      ],
      "metadata": {
        "colab": {
          "base_uri": "https://localhost:8080/"
        },
        "id": "1ZJICwbHqKsn",
        "outputId": "7efb7d6b-5b3f-4a96-c365-9c6007074d1f"
      },
      "execution_count": null,
      "outputs": [
        {
          "output_type": "stream",
          "name": "stdout",
          "text": [
            "9\n"
          ]
        }
      ]
    },
    {
      "cell_type": "code",
      "source": [
        "#Task13\n",
        "\n",
        "list_1 = [(\"a\", 1), (\"b\", 2), (\"a\", 3), (\"b\", 1), (\"a\", 2), (\"c\", 1)]\n",
        "al = []\n",
        "bl = []\n",
        "cl = []\n",
        "for i in range (len(list_1)):\n",
        "    if list_1 [i][0] == 'a':\n",
        "        al.append(list_1[i][1])\n",
        "    elif  list_1 [i][0] == 'b':\n",
        "        bl.append(list_1[i][1])\n",
        "    elif  list_1 [i][0] == 'c':\n",
        "        cl.append(list_1[i][1])\n",
        "new_dict = {'a': al, 'b': bl, 'c': cl}\n",
        "print(new_dict)"
      ],
      "metadata": {
        "colab": {
          "base_uri": "https://localhost:8080/"
        },
        "id": "p7Ga-TlqsBJ8",
        "outputId": "f594e18e-d30c-469d-cb94-f7056cef10a2"
      },
      "execution_count": null,
      "outputs": [
        {
          "output_type": "stream",
          "name": "stdout",
          "text": [
            "{'a': [1, 3, 2], 'b': [2, 1], 'c': [1]}\n"
          ]
        }
      ]
    },
    {
      "cell_type": "code",
      "source": [
        "#Task 14\n",
        "\n",
        "dict1 = {'a':59 , 'b':-82 , 'c':5 , 'd':-81 , 'e':53}\n",
        "for i in dict1:\n",
        "    j = 0\n",
        "    k = 22\n",
        "    while j < 5:\n",
        "        if j % 2 == 0:\n",
        "            k = dict1[i] + j - (8 + k % 6) / 3\n",
        "            dict1[i] = dict1[i]+ int(k)\n",
        "        else:\n",
        "            k = dict1[i] + j - (6 - k % 8) * 3\n",
        "            dict1[i] = dict1[i] - int(k)\n",
        "        j += 1\n",
        "    print(int(k))\n",
        "    print(i + \" -> \" + str(dict1[i]))"
      ],
      "metadata": {
        "colab": {
          "base_uri": "https://localhost:8080/"
        },
        "id": "tErz7_T0S7mO",
        "outputId": "86d9715a-6713-4942-a496-5b36fe39df3d"
      },
      "execution_count": null,
      "outputs": [
        {
          "output_type": "stream",
          "name": "stdout",
          "text": [
            "8\n",
            "a -> 17\n",
            "10\n",
            "b -> 19\n",
            "2\n",
            "c -> 5\n",
            "-7\n",
            "d -> -14\n",
            "2\n",
            "e -> 5\n"
          ]
        }
      ]
    },
    {
      "cell_type": "code",
      "source": [
        "3 + 4 -(8 + (23.0) % 6)/3"
      ],
      "metadata": {
        "colab": {
          "base_uri": "https://localhost:8080/"
        },
        "id": "3ZfsNho3ZlKR",
        "outputId": "67fe16ce-b285-49cb-cc46-713de6ca2cdc"
      },
      "execution_count": null,
      "outputs": [
        {
          "output_type": "execute_result",
          "data": {
            "text/plain": [
              "2.666666666666667"
            ]
          },
          "metadata": {},
          "execution_count": 43
        }
      ]
    },
    {
      "cell_type": "code",
      "source": [
        "26 + 3 - (6 - (12.0) % 8) * 3"
      ],
      "metadata": {
        "colab": {
          "base_uri": "https://localhost:8080/"
        },
        "id": "1DRJvvpzsOat",
        "outputId": "06b884de-2391-4803-d70c-b4d38e1de6f1"
      },
      "execution_count": null,
      "outputs": [
        {
          "output_type": "execute_result",
          "data": {
            "text/plain": [
              "23.0"
            ]
          },
          "metadata": {},
          "execution_count": 42
        }
      ]
    }
  ]
}