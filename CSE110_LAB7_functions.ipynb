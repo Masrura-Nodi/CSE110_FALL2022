{
  "nbformat": 4,
  "nbformat_minor": 0,
  "metadata": {
    "colab": {
      "provenance": []
    },
    "kernelspec": {
      "name": "python3",
      "display_name": "Python 3"
    },
    "language_info": {
      "name": "python"
    }
  },
  "cells": [
    {
      "cell_type": "code",
      "execution_count": null,
      "metadata": {
        "colab": {
          "base_uri": "https://localhost:8080/"
        },
        "id": "C9BaVaN0eDif",
        "outputId": "008f7deb-2279-45af-b83a-4bce21ffdba9"
      },
      "outputs": [
        {
          "output_type": "stream",
          "name": "stdout",
          "text": [
            "Odd!!\n"
          ]
        }
      ],
      "source": [
        "#Task1\n",
        "\n",
        "def even_checker(number):\n",
        "    if number % 2 == 0:\n",
        "        print(\"Even!!\")\n",
        "    else:\n",
        "        print(\"Odd!!\")\n",
        "even_checker(5)"
      ]
    },
    {
      "cell_type": "code",
      "source": [
        "#Task2\n",
        "\n",
        "def fibonacci(limit):\n",
        "    list1 = [0,1]\n",
        "    while True:\n",
        "        number = list1[-1] + list1[-2]\n",
        "        if number > limit:\n",
        "            break\n",
        "        else:\n",
        "            list1.append(number)\n",
        "    for num in list1:\n",
        "        print(num, end=\" \")\n",
        "fibonacci(5)"
      ],
      "metadata": {
        "colab": {
          "base_uri": "https://localhost:8080/"
        },
        "id": "xVAJ_CHoknKD",
        "outputId": "b5b51cf1-1c48-43d5-95ef-464c8041ea4e"
      },
      "execution_count": null,
      "outputs": [
        {
          "output_type": "stream",
          "name": "stdout",
          "text": [
            "0 1 1 2 3 5 "
          ]
        }
      ]
    },
    {
      "cell_type": "code",
      "source": [
        "#Task3\n",
        "\n",
        "def foo_moo(number):\n",
        "    if number % 2 == 0 and number % 3 == 0:\n",
        "        return \"FooMoo\"\n",
        "    elif number % 2 == 0:\n",
        "        return \"Foo\"\n",
        "    elif number % 3 == 0:\n",
        "        return \"Moo\"\n",
        "    else:\n",
        "        return \"Boo\"\n",
        "print(foo_moo(5))"
      ],
      "metadata": {
        "colab": {
          "base_uri": "https://localhost:8080/"
        },
        "id": "PdKogXITlSnM",
        "outputId": "b2947c21-d0ca-483b-f4e9-bf550aa59a1d"
      },
      "execution_count": null,
      "outputs": [
        {
          "output_type": "stream",
          "name": "stdout",
          "text": [
            "Boo\n"
          ]
        }
      ]
    },
    {
      "cell_type": "code",
      "source": [
        "#Task4\n",
        "\n",
        "def function_name(string):\n",
        "    uppercase = 0\n",
        "    lowercase = 0\n",
        "    for s in string:\n",
        "        if 65 <= ord(s) <= 90:\n",
        "            uppercase += 1\n",
        "        elif 97 <= ord(s) <= 122:\n",
        "            lowercase += 1\n",
        "    print(\"No. of Uppercase characters : \", uppercase)\n",
        "    print(\"No. of Lowercase Characters: \", lowercase)\n",
        "function_name('HaRRy PotteR')"
      ],
      "metadata": {
        "colab": {
          "base_uri": "https://localhost:8080/"
        },
        "id": "M5VP-kSamG7c",
        "outputId": "2f0aca10-e9db-4df6-9e3e-e73c7818066f"
      },
      "execution_count": null,
      "outputs": [
        {
          "output_type": "stream",
          "name": "stdout",
          "text": [
            "No. of Uppercase characters :  5\n",
            "No. of Lowercase Characters:  6\n"
          ]
        }
      ]
    },
    {
      "cell_type": "code",
      "source": [
        "#Task5\n",
        "\n",
        "def calculate_tax(age,salary,job):\n",
        "    if age < 18 or job == \"president\" or salary < 10000:\n",
        "        tax_value = 0\n",
        "    elif salary <= 20000:\n",
        "        tax_value = salary * (5/100)\n",
        "    elif salary > 20000:\n",
        "        tax_value = salary * (10/100)\n",
        "    return tax_value\n",
        "age = int(input(\"Your age: \"))\n",
        "salary = int(input(\"Your salary: \"))\n",
        "job = input(\"Your current job designation: \")\n",
        "job = job.lower()\n",
        "print(calculate_tax(age,salary,job))"
      ],
      "metadata": {
        "colab": {
          "base_uri": "https://localhost:8080/"
        },
        "id": "q26pJ8yEoYMk",
        "outputId": "6e909940-bf08-4619-e48f-f4e115b2ed26"
      },
      "execution_count": null,
      "outputs": [
        {
          "output_type": "stream",
          "name": "stdout",
          "text": [
            "Your age: 16\n",
            "Your salary: 20000\n",
            "Your current job designation: Student\n",
            "0\n"
          ]
        }
      ]
    },
    {
      "cell_type": "code",
      "source": [
        "#Task6\n",
        "\n",
        "def function_name(days):\n",
        "    years = days // 365\n",
        "    days = days % 365\n",
        "    months = days // 30\n",
        "    days = days % 30\n",
        "    print(\"{} years, {} months and {} days\".format(years,months,days))\n",
        "days = int(input(\"Number of days: \"))\n",
        "function_name(days)"
      ],
      "metadata": {
        "colab": {
          "base_uri": "https://localhost:8080/"
        },
        "id": "vV6YactfqUPT",
        "outputId": "40ac409b-410e-4ff1-afc1-32692479fd7e"
      },
      "execution_count": null,
      "outputs": [
        {
          "output_type": "stream",
          "name": "stdout",
          "text": [
            "Number of days: 4330\n",
            "11 years, 10 months and 15 days\n"
          ]
        }
      ]
    },
    {
      "cell_type": "code",
      "source": [
        "#Task7\n",
        "\n",
        "def show_palindrome(m):\n",
        "    if m > 1:\n",
        "        string = \"1\"\n",
        "        for m in range (2 ,m+1,1):\n",
        "            string += str(m)\n",
        "        for n in range (m-1, 0, -1):\n",
        "            string += str(n)\n",
        "    return string\n",
        "print(show_palindrome(5))"
      ],
      "metadata": {
        "colab": {
          "base_uri": "https://localhost:8080/"
        },
        "id": "P7m1WlxF8AKf",
        "outputId": "bdc6c779-1d10-44c5-9665-adb10292c608"
      },
      "execution_count": null,
      "outputs": [
        {
          "output_type": "stream",
          "name": "stdout",
          "text": [
            "123454321\n"
          ]
        }
      ]
    },
    {
      "cell_type": "code",
      "source": [
        "#Task8\n",
        "\n",
        "def show_palindrome(m):\n",
        "    if m > 1:\n",
        "        string = \"1\"\n",
        "        for m in range (2 ,m+1,1):\n",
        "            string += str(m)\n",
        "        for n in range (m-1, 0, -1):\n",
        "            string += str(n)\n",
        "    return string\n",
        "\n",
        "def show_palindrome_triangle(m):\n",
        "    for n in range (1,m+1):\n",
        "        for r in range (1,m-n+1):\n",
        "            print(\" \", end = \" \")\n",
        "        for num in range (1,n):\n",
        "            print(num, end = \" \")\n",
        "        for num in range(n,0,-1):\n",
        "            print(num, end = \" \")\n",
        "        print(\"\")\n",
        "show_palindrome_triangle(5)\n"
      ],
      "metadata": {
        "colab": {
          "base_uri": "https://localhost:8080/"
        },
        "id": "YkpAtqH2ndAd",
        "outputId": "aedea8bf-5bae-4d5a-84aa-3c58ab3bc963"
      },
      "execution_count": null,
      "outputs": [
        {
          "output_type": "stream",
          "name": "stdout",
          "text": [
            "        1 \n",
            "      1 2 1 \n",
            "    1 2 3 2 1 \n",
            "  1 2 3 4 3 2 1 \n",
            "1 2 3 4 5 4 3 2 1 \n"
          ]
        }
      ]
    },
    {
      "cell_type": "code",
      "source": [
        "#Task9\n",
        "\n",
        "def area_circumference_generator(radius):\n",
        "    area = (22/7) *radius **2\n",
        "    circumferance = 2 * (22/7) * radius\n",
        "    return area,circumferance\n",
        "results = area_circumference_generator(1)\n",
        "area,circumference = results\n",
        "print(results)\n",
        "print(\"Area of the circle is {} and circumferance is {}\".format(area,circumference))"
      ],
      "metadata": {
        "colab": {
          "base_uri": "https://localhost:8080/"
        },
        "id": "YHQObzV0wAGh",
        "outputId": "1451b96c-be75-4f83-92d9-ab2504dd3235"
      },
      "execution_count": null,
      "outputs": [
        {
          "output_type": "stream",
          "name": "stdout",
          "text": [
            "(3.142857142857143, 6.285714285714286)\n",
            "Area of the circle is 3.142857142857143 and circumferance is 6.285714285714286\n"
          ]
        }
      ]
    },
    {
      "cell_type": "code",
      "source": [
        "#Task10\n",
        "\n",
        "def make_sqaure(tup):\n",
        "    dictionary = {}\n",
        "    for num in range(tup[0],tup[1]+1):\n",
        "        dictionary[num] = num**2\n",
        "    return dictionary\n",
        "make_sqaure((1,3))"
      ],
      "metadata": {
        "id": "ikGgzmpXw6YK",
        "colab": {
          "base_uri": "https://localhost:8080/"
        },
        "outputId": "926ef5d3-6bf8-4698-b4c7-791b9d40c9ee"
      },
      "execution_count": null,
      "outputs": [
        {
          "output_type": "execute_result",
          "data": {
            "text/plain": [
              "{1: 1, 2: 4, 3: 9}"
            ]
          },
          "metadata": {},
          "execution_count": 10
        }
      ]
    },
    {
      "cell_type": "code",
      "source": [
        "#Task11\n",
        "\n",
        "def rem_duplicate(tup):\n",
        "    list1 = []\n",
        "    for value in tup:\n",
        "        if value not in list1:\n",
        "            list1.append(value)\n",
        "    return tuple(list1)\n",
        "rem_duplicate((1,1,1,2,3,4,5,6,6,6,6,4,0,0,0))"
      ],
      "metadata": {
        "colab": {
          "base_uri": "https://localhost:8080/"
        },
        "id": "yuvngrlAerjC",
        "outputId": "fc4a1372-f165-40da-9847-f842fecff4a1"
      },
      "execution_count": null,
      "outputs": [
        {
          "output_type": "execute_result",
          "data": {
            "text/plain": [
              "(1, 2, 3, 4, 5, 6, 0)"
            ]
          },
          "metadata": {},
          "execution_count": 15
        }
      ]
    },
    {
      "cell_type": "code",
      "source": [
        "#Task12\n",
        "\n",
        "def function_name(list1):\n",
        "    new_list = []\n",
        "    count = 0\n",
        "    for elements in list1:\n",
        "        if new_list.count(elements) < 2:\n",
        "            new_list.append(elements)\n",
        "        else:\n",
        "            count += 1\n",
        "    print(\"Removed:\",count)\n",
        "    print(new_list)\n",
        "function_name([1, 2, 3, 3, 3, 3, 4, 5, 8, 8])"
      ],
      "metadata": {
        "colab": {
          "base_uri": "https://localhost:8080/"
        },
        "id": "fro7Rybzpd2G",
        "outputId": "8dff7816-1503-48f2-9b2c-4c15a18a675e"
      },
      "execution_count": null,
      "outputs": [
        {
          "output_type": "stream",
          "name": "stdout",
          "text": [
            "Removed: 2\n",
            "[1, 2, 3, 3, 4, 5, 8, 8]\n"
          ]
        }
      ]
    },
    {
      "cell_type": "code",
      "source": [
        "#Task13\n",
        "\n",
        "def function_name(op,op1,op2):\n",
        "    if op == \"+\":\n",
        "        return (op1 + op2)\n",
        "    elif op == \"-\":\n",
        "        return (op1 - op2)\n",
        "    elif op == \"*\":\n",
        "        return (op1 * op2)\n",
        "    elif op == \"/\":\n",
        "        return  (op1 / op2)\n",
        "op = input(\"Enter the Operation: \")\n",
        "op1 = float(input(\"Enter the First Operand: \"))\n",
        "op2 = float(input(\"Enter the Second Operand: \"))\n",
        "function_name(op,op1,op2)"
      ],
      "metadata": {
        "colab": {
          "base_uri": "https://localhost:8080/"
        },
        "id": "aHcmuKU1p5hc",
        "outputId": "c23bcd2c-2bb7-4728-87e6-23322a8e3e4e"
      },
      "execution_count": null,
      "outputs": [
        {
          "name": "stdout",
          "output_type": "stream",
          "text": [
            "Enter the Operation: +\n",
            "Enter the First Operand: 10\n",
            "Enter the Second Operand: 20\n"
          ]
        },
        {
          "output_type": "execute_result",
          "data": {
            "text/plain": [
              "30.0"
            ]
          },
          "metadata": {},
          "execution_count": 23
        }
      ]
    },
    {
      "cell_type": "code",
      "source": [
        "#Task14\n",
        "\n",
        "def function_name(sentence,position):\n",
        "    new_string = sentence[0]\n",
        "    remove = \"\"\n",
        "    for index in range(1, len(sentence)):\n",
        "        if index % position != 0:\n",
        "            new_string += sentence[index]\n",
        "        else:\n",
        "            remove += sentence[index]\n",
        "    new_string += remove\n",
        "    return new_string\n",
        "sentence = input(\"Enter the sentence: \")\n",
        "position = int(input(\"Enter the position: \"))\n",
        "print(function_name(sentence,position))"
      ],
      "metadata": {
        "colab": {
          "base_uri": "https://localhost:8080/"
        },
        "id": "HVl2vZkcG_hq",
        "outputId": "8c99ca6d-0077-4bfa-8a3a-a4373c456a64"
      },
      "execution_count": null,
      "outputs": [
        {
          "output_type": "stream",
          "name": "stdout",
          "text": [
            "Enter the sentence: I love programming.\n",
            "Enter the position: 3\n",
            "I lveprgrmmngo oai.\n"
          ]
        }
      ]
    },
    {
      "cell_type": "code",
      "source": [
        "#Task15\n",
        "\n",
        "list1 = input(\"Enter the list: \")[1:-1]\n",
        "list1 = list1.replace('\"','').split(', ')\n",
        "def function_name(order_items, location = \"Dhanmondi\"):\n",
        "    dict1 = {'Rice' : 105, 'Potato' : 20, 'Chicken' : 250, 'Beef' : 510, 'Oil' : 85}\n",
        "    total= 0\n",
        "    for n in order_items:\n",
        "        total += dict1[n]\n",
        "    if location == 'Dhanmondi':\n",
        "        total += 30\n",
        "    else:\n",
        "        total += 70\n",
        "    return total\n",
        "print(function_name(list1,\"Mohakhali\"))"
      ],
      "metadata": {
        "colab": {
          "base_uri": "https://localhost:8080/"
        },
        "id": "hNQyHwugLffO",
        "outputId": "9f0fb4e5-dc81-4819-b45b-ade26e990d48"
      },
      "execution_count": null,
      "outputs": [
        {
          "output_type": "stream",
          "name": "stdout",
          "text": [
            "Enter the list: [\"Rice\", \"Beef\", \"Rice\"]\n",
            "790\n"
          ]
        }
      ]
    },
    {
      "cell_type": "code",
      "source": [
        "#Task16 example1\n",
        "\n",
        "def splitting_money(amount):\n",
        "    taka500 = amount // 500\n",
        "    amount500 = amount % 500\n",
        "    taka100 = amount500 // 100\n",
        "    amount100 = amount500 % 100\n",
        "    taka20 = amount100 // 20\n",
        "    amount20 = amount100 % 20\n",
        "    taka10 = amount20 // 10\n",
        "    amount10 = amount20 % 10\n",
        "    taka2 = amount10 // 2\n",
        "    amount2 = amount10 % 2\n",
        "    print(f\"500 Taka: {taka500} note(s) \\n\"\n",
        "          f\"100 Taka: {taka100} note(s) \\n\"\n",
        "          f\"20 Taka: {taka20} note(s) \\n\"\n",
        "          f\"10 Taka: {taka100} note(s) \\n\"\n",
        "          f\"2 Taka: {taka2} note(s)\")\n",
        "    return\n",
        "amount = int(input(\"Amount of taka: \"))\n",
        "splitting_money(amount)"
      ],
      "metadata": {
        "colab": {
          "base_uri": "https://localhost:8080/"
        },
        "id": "NOKPTqxC03Lh",
        "outputId": "2cca0127-75af-408d-c27f-3e1c2b50f631"
      },
      "execution_count": null,
      "outputs": [
        {
          "output_type": "stream",
          "name": "stdout",
          "text": [
            "Amount of taka: 1234\n",
            "500 Taka: 2 note(s) \n",
            "100 Taka: 2 note(s) \n",
            "20 Taka: 1 note(s) \n",
            "10 Taka: 2 note(s) \n",
            "2 Taka: 2 note(s)\n"
          ]
        }
      ]
    },
    {
      "cell_type": "code",
      "source": [],
      "metadata": {
        "id": "15YCHeXoJS8t"
      },
      "execution_count": null,
      "outputs": []
    },
    {
      "cell_type": "code",
      "source": [
        "#Task16 example2\n",
        "\n",
        "def splitting_money(amount):\n",
        "    taka100 = amount // 100\n",
        "    amount100 = amount % 100\n",
        "    taka50 = amount100 // 50\n",
        "    amount50 = amount100 % 50\n",
        "    taka1 = amount50 // 1\n",
        "    amount1 = amount50 % 1\n",
        "    print(f\"100 Taka: {taka100} note(s) \\n\" f\"50 Taka: {taka50} note(s) \\n\" f\"1 Taka: {taka1} note(s) \\n\")\n",
        "    return\n",
        "amount = int(input(\"Amount of taka: \"))\n",
        "splitting_money(amount)"
      ],
      "metadata": {
        "colab": {
          "base_uri": "https://localhost:8080/"
        },
        "outputId": "c9f04d88-5218-4208-ccdb-3e800353aa60",
        "id": "b5oPq4dUJWbd"
      },
      "execution_count": null,
      "outputs": [
        {
          "output_type": "stream",
          "name": "stdout",
          "text": [
            "Amount of taka: 151\n",
            "100 Taka: 1 note(s) \n",
            "50 Taka: 1 note(s) \n",
            "1 Taka: 1 note(s) \n",
            "\n"
          ]
        }
      ]
    },
    {
      "cell_type": "code",
      "source": [
        "#Task17 example1\n",
        "\n",
        "def remove_odd (list1):\n",
        "    compact_list = []\n",
        "    for i in list1[:]:\n",
        "        if i % 2 == 0:\n",
        "            compact_list.append(i)\n",
        "    return compact_list\n",
        "remove_odd ([21, 33, 44, 66, 11, 1, 88, 45, 10, 9])"
      ],
      "metadata": {
        "colab": {
          "base_uri": "https://localhost:8080/"
        },
        "id": "qbGcxhaQgfEH",
        "outputId": "abc03f31-02a6-4a33-bd2a-1e2372c2a736"
      },
      "execution_count": null,
      "outputs": [
        {
          "output_type": "execute_result",
          "data": {
            "text/plain": [
              "[44, 66, 88, 10]"
            ]
          },
          "metadata": {},
          "execution_count": 43
        }
      ]
    },
    {
      "cell_type": "code",
      "source": [
        "#Task17 example2\n",
        "\n",
        "def remove_odd (list1):\n",
        "    compact_list = []\n",
        "    for i in list1[:]:\n",
        "        if i % 2 == 0:\n",
        "            compact_list.append(i)\n",
        "    return compact_list\n",
        "remove_odd ([11,2,3,4,5,2,0,5,3])"
      ],
      "metadata": {
        "colab": {
          "base_uri": "https://localhost:8080/"
        },
        "id": "u7QudNv0p9CA",
        "outputId": "023dc6dc-1dc1-4693-8689-3c55a16af5ad"
      },
      "execution_count": null,
      "outputs": [
        {
          "output_type": "execute_result",
          "data": {
            "text/plain": [
              "[2, 4, 2, 0]"
            ]
          },
          "metadata": {},
          "execution_count": 45
        }
      ]
    },
    {
      "cell_type": "code",
      "source": [],
      "metadata": {
        "id": "IUj108ojle_z"
      },
      "execution_count": null,
      "outputs": []
    },
    {
      "cell_type": "code",
      "source": [],
      "metadata": {
        "id": "84S6w2aBlfiW"
      },
      "execution_count": null,
      "outputs": []
    },
    {
      "cell_type": "code",
      "source": [],
      "metadata": {
        "id": "Y39Zro3vlf_h"
      },
      "execution_count": null,
      "outputs": []
    },
    {
      "cell_type": "code",
      "source": [
        "#Task20 example1\n",
        "\n",
        "def individul_bonus_calculation(name, earning, goal, bonus):\n",
        "    if goal > 30:\n",
        "        bonus = int(goal * (bonus / 100 * earning) + 10000)\n",
        "    elif 20 < goal < 30:\n",
        "        bonus = int(goal * (bonus * earning) + 5000)\n",
        "    print(\"{} earned a bonus of {} Taka for {} goals.\".format(name,bonus,goal))\n",
        "individul_bonus_calculation(\"Neymar\", 1200000, 35, 5)"
      ],
      "metadata": {
        "colab": {
          "base_uri": "https://localhost:8080/"
        },
        "id": "GzDAGQmBdpmz",
        "outputId": "b214092f-ed58-4168-a83d-ad87b9ec1ad4"
      },
      "execution_count": null,
      "outputs": [
        {
          "output_type": "stream",
          "name": "stdout",
          "text": [
            "Neymar earned a bonus of 2110000 Taka for 35 goals.\n"
          ]
        }
      ]
    },
    {
      "cell_type": "code",
      "source": [
        "#Task20 example2\n",
        "\n",
        "def individul_bonus_calculation(name, earning, goal, bonus):\n",
        "    if goal > 30:\n",
        "        bonus = int(goal * (bonus / 100 * earning) + 10000)\n",
        "    elif 20 < goal < 30:\n",
        "        bonus = int(goal * (bonus / 100 * earning) + 5000)\n",
        "    else:\n",
        "        bonus = int(goal * (bonus / 100 * earning))\n",
        "    print(\"{} earned a bonus of {} Taka for {} goals.\".format(name,bonus,goal))\n",
        "individul_bonus_calculation('Jamal', 700000, 19, 8)"
      ],
      "metadata": {
        "colab": {
          "base_uri": "https://localhost:8080/"
        },
        "id": "y6ByaGBhfLYj",
        "outputId": "12ed51b1-39c1-4e3b-f51d-4ccd8d06adb2"
      },
      "execution_count": null,
      "outputs": [
        {
          "output_type": "stream",
          "name": "stdout",
          "text": [
            "Jamal earned a bonus of 1064000 Taka for 19 goals.\n"
          ]
        }
      ]
    },
    {
      "cell_type": "code",
      "source": [
        "#Task20 example3\n",
        "\n",
        "def individul_bonus_calculation(name, earning, goal, bonus):\n",
        "    if goal > 30:\n",
        "        bonus = int(goal * (bonus / 100 * earning) + 10000)\n",
        "    elif 20 < goal < 30:\n",
        "        bonus = int(goal * (bonus / 100 * earning) + 5000)\n",
        "    else:\n",
        "        bonus = int(goal * (bonus / 100 * earning))\n",
        "    print(\"{} earned a bonus of {} Taka for {} goals.\".format(name,bonus,goal))\n",
        "individul_bonus_calculation('Luis', 80000, 25, 10)"
      ],
      "metadata": {
        "colab": {
          "base_uri": "https://localhost:8080/"
        },
        "id": "NyIPnNHUgBmc",
        "outputId": "ea293b29-a327-4fa0-f1e5-d010fd7cd4b9"
      },
      "execution_count": null,
      "outputs": [
        {
          "output_type": "stream",
          "name": "stdout",
          "text": [
            "Luis earned a bonus of 205000 Taka for 25 goals.\n"
          ]
        }
      ]
    }
  ]
}